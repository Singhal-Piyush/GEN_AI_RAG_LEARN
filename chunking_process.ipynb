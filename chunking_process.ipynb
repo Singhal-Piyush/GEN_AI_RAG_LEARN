{
 "cells": [
  {
   "cell_type": "markdown",
   "id": "fd49be01",
   "metadata": {},
   "source": [
    "# Chunking for RAG"
   ]
  },
  {
   "cell_type": "markdown",
   "id": "e04aeb21",
   "metadata": {},
   "source": [
    "we will be studying about the various levels and types of chunking stratergies that we can employee for better retrieval performance of the RAG application."
   ]
  },
  {
   "cell_type": "markdown",
   "id": "384281ec",
   "metadata": {},
   "source": [
    "### Importing libaries"
   ]
  },
  {
   "cell_type": "code",
   "execution_count": 2,
   "id": "e3fa8fb4",
   "metadata": {},
   "outputs": [],
   "source": [
    "# importing libraries\n",
    "import langchain\n",
    "import llama_index"
   ]
  },
  {
   "cell_type": "code",
   "execution_count": null,
   "id": "e88b41eb",
   "metadata": {},
   "outputs": [],
   "source": []
  },
  {
   "cell_type": "markdown",
   "id": "a1e46601",
   "metadata": {},
   "source": [
    "### Install new libraries"
   ]
  },
  {
   "cell_type": "code",
   "execution_count": 43,
   "id": "750e5372",
   "metadata": {},
   "outputs": [
    {
     "ename": "SyntaxError",
     "evalue": "invalid syntax. Perhaps you forgot a comma? (2607182387.py, line 2)",
     "output_type": "error",
     "traceback": [
      "\u001b[1;36m  Cell \u001b[1;32mIn[43], line 2\u001b[1;36m\u001b[0m\n\u001b[1;33m    pip install llama-index\u001b[0m\n\u001b[1;37m        ^\u001b[0m\n\u001b[1;31mSyntaxError\u001b[0m\u001b[1;31m:\u001b[0m invalid syntax. Perhaps you forgot a comma?\n"
     ]
    }
   ],
   "source": [
    "# pip install langchain\n",
    "# pip install llama-index\n",
    "# pip install \"unstructured[all-docs]\""
   ]
  },
  {
   "cell_type": "markdown",
   "id": "a87e21e3",
   "metadata": {},
   "source": [
    "## Level 1: Character Splitting"
   ]
  },
  {
   "cell_type": "markdown",
   "id": "616602fa",
   "metadata": {},
   "source": [
    " - **Chunk Size-** The number of characters you would like in your chunks. 50,100, 1000, etcs\n",
    " - **Chunk Overlap-** The amount you would like your sequential chunks to overlap. This is to try to avoid cutting a single piece of context into multiple pieces. This will create duplicate data acroos chunks."
   ]
  },
  {
   "cell_type": "code",
   "execution_count": 10,
   "id": "b0fab594",
   "metadata": {},
   "outputs": [],
   "source": [
    "text = \"This is the text I would like to chunk up. It is example text for this exercise.\""
   ]
  },
  {
   "cell_type": "markdown",
   "id": "553952b2",
   "metadata": {},
   "source": [
    "let's split this example manually."
   ]
  },
  {
   "cell_type": "code",
   "execution_count": 11,
   "id": "1b61b26d",
   "metadata": {},
   "outputs": [
    {
     "data": {
      "text/plain": [
       "['This is the text I would like to ch',\n",
       " 'unk up. It is example text for this',\n",
       " ' exercise.']"
      ]
     },
     "execution_count": 11,
     "metadata": {},
     "output_type": "execute_result"
    }
   ],
   "source": [
    "# create a list that will hold your chunks\n",
    "chunks = []\n",
    "\n",
    "CHUNK_SIZE = 35 # characters\n",
    "\n",
    "# run through the text/document and depending on the chunk_size\n",
    "for i in range(0, len(text), CHUNK_SIZE):\n",
    "    chunk = text[i:i+CHUNK_SIZE]\n",
    "    chunks.append(chunk)\n",
    "\n",
    "# print the chunks that we generated though text\n",
    "chunks"
   ]
  },
  {
   "cell_type": "code",
   "execution_count": 3,
   "id": "2ee5eafd",
   "metadata": {},
   "outputs": [],
   "source": [
    "from langchain.text_splitter import CharacterTextSplitter"
   ]
  },
  {
   "cell_type": "code",
   "execution_count": 22,
   "id": "0c8de7b4",
   "metadata": {},
   "outputs": [],
   "source": [
    "text_splitter = CharacterTextSplitter(chunk_size = 35, chunk_overlap = 0, separator = '', strip_whitespace = False)"
   ]
  },
  {
   "cell_type": "markdown",
   "id": "33723cfb",
   "metadata": {},
   "source": [
    "using CharacterTextSplitter we can now proceed using create_documents to split the text. But `create_documents` expects a list of texts, so we will have to wrap it in []."
   ]
  },
  {
   "cell_type": "code",
   "execution_count": 23,
   "id": "63eb01f5",
   "metadata": {},
   "outputs": [
    {
     "data": {
      "text/plain": [
       "[Document(metadata={}, page_content='This is the text I would like to ch'),\n",
       " Document(metadata={}, page_content='unk up. It is example text for this'),\n",
       " Document(metadata={}, page_content=' exercise.')]"
      ]
     },
     "execution_count": 23,
     "metadata": {},
     "output_type": "execute_result"
    }
   ],
   "source": [
    "text_splitter.create_documents([text])"
   ]
  },
  {
   "cell_type": "markdown",
   "id": "27264169",
   "metadata": {},
   "source": [
    "In Langchain, each chunk is held in Document. Document in Langchain is a object that can hold metadata and page_content as shown above."
   ]
  },
  {
   "cell_type": "markdown",
   "id": "b72e92ee",
   "metadata": {},
   "source": [
    "##### Chunk Overlap"
   ]
  },
  {
   "cell_type": "code",
   "execution_count": 24,
   "id": "c36dcdfd",
   "metadata": {},
   "outputs": [],
   "source": [
    "text_splitter = CharacterTextSplitter(chunk_size = 35, chunk_overlap = 5, separator = '')"
   ]
  },
  {
   "cell_type": "code",
   "execution_count": 25,
   "id": "548cc0b4",
   "metadata": {},
   "outputs": [
    {
     "data": {
      "text/plain": [
       "[Document(metadata={}, page_content='This is the text I would like to ch'),\n",
       " Document(metadata={}, page_content='to chunk up. It is example text for'),\n",
       " Document(metadata={}, page_content='t for this exercise.')]"
      ]
     },
     "execution_count": 25,
     "metadata": {},
     "output_type": "execute_result"
    }
   ],
   "source": [
    "text_splitter.create_documents([text])"
   ]
  },
  {
   "cell_type": "markdown",
   "id": "453ec881",
   "metadata": {},
   "source": [
    "#### Separator"
   ]
  },
  {
   "cell_type": "code",
   "execution_count": 40,
   "id": "3dff6e55",
   "metadata": {},
   "outputs": [],
   "source": [
    "text_splitter = CharacterTextSplitter(chunk_size = 45, chunk_overlap =0, separator = 'ch')"
   ]
  },
  {
   "cell_type": "code",
   "execution_count": 39,
   "id": "3f4b05b2",
   "metadata": {},
   "outputs": [
    {
     "data": {
      "text/plain": [
       "[Document(metadata={}, page_content='This is the text I would like to'),\n",
       " Document(metadata={}, page_content='unk up. It is example text for this exercise.')]"
      ]
     },
     "execution_count": 39,
     "metadata": {},
     "output_type": "execute_result"
    }
   ],
   "source": [
    "text_splitter.create_documents([text])"
   ]
  },
  {
   "cell_type": "markdown",
   "id": "c8aac5a2",
   "metadata": {},
   "source": [
    "chunk_overlap and separator doesn't go along with eachother. We can only use one at a time."
   ]
  },
  {
   "cell_type": "markdown",
   "id": "17e60b79",
   "metadata": {},
   "source": [
    "#### Using Llama Index"
   ]
  },
  {
   "cell_type": "markdown",
   "id": "cf1718ba",
   "metadata": {},
   "source": [
    "Llama Index is also a great choice for chunking and indexing process. They provide node relationship out of the box which can aid in retrieval later."
   ]
  },
  {
   "cell_type": "code",
   "execution_count": 4,
   "id": "aedb16ad",
   "metadata": {},
   "outputs": [],
   "source": [
    "from llama_index.core.text_splitter import SentenceSplitter\n",
    "from llama_index.core import SimpleDirectoryReader"
   ]
  },
  {
   "cell_type": "code",
   "execution_count": 51,
   "id": "91e2b40e",
   "metadata": {},
   "outputs": [],
   "source": [
    "splitter = SentenceSplitter(\n",
    "    chunk_size = 200,\n",
    "    chunk_overlap = 15\n",
    ")"
   ]
  },
  {
   "cell_type": "code",
   "execution_count": 52,
   "id": "e1a01b87",
   "metadata": {},
   "outputs": [],
   "source": [
    "# lets load files using SimpleDirectoryReader\n",
    "documents = SimpleDirectoryReader(\n",
    "    input_files = [\"./data/mit.txt\"]\n",
    ").load_data()"
   ]
  },
  {
   "cell_type": "code",
   "execution_count": 61,
   "id": "98f9ac6a",
   "metadata": {},
   "outputs": [
    {
     "data": {
      "text/plain": [
       "[Document(id_='4480bb4a-2992-4f43-93c1-7152ecf6ff60', embedding=None, metadata={'file_path': 'data\\\\mit.txt', 'file_name': 'mit.txt', 'file_type': 'text/plain', 'file_size': 36045, 'creation_date': '2025-03-18', 'last_modified_date': '2025-03-18'}, excluded_embed_metadata_keys=['file_name', 'file_type', 'file_size', 'creation_date', 'last_modified_date', 'last_accessed_date'], excluded_llm_metadata_keys=['file_name', 'file_type', 'file_size', 'creation_date', 'last_modified_date', 'last_accessed_date'], relationships={}, metadata_template='{key}: {value}', metadata_separator='\\n', text_resource=MediaResource(embeddings=None, data=None, text='\\n\\nWant to start a startup?  Get funded by\\nY Combinator.\\n\\n\\n\\n\\nOctober 2006(This essay is derived from a talk at MIT.)\\nTill recently graduating seniors had two choices: get a job or go\\nto grad school.  I think there will increasingly be a third option:\\nto start your own startup.  But how common will that be?I\\'m sure the default will always be to get a job, but starting a\\nstartup could well become as popular as grad school.  In the late\\n90s my professor friends used to complain that they couldn\\'t get\\ngrad students, because all the undergrads were going to work for\\nstartups.  I wouldn\\'t be surprised if that situation returns, but\\nwith one difference: this time they\\'ll be starting their own\\ninstead of going to work for other people\\'s.The most ambitious students will at this point be asking: Why wait\\ntill you graduate?  Why not start a startup while you\\'re in college?\\nIn fact, why go to college at all?  Why not start a startup instead?A year and a half ago I gave a talk \\nwhere I said that the average age of the founders of\\nYahoo, Google, and Microsoft was 24, and that if grad students could\\nstart startups, why not undergrads?  I\\'m glad I phrased that as a\\nquestion, because now I can pretend it wasn\\'t merely a rhetorical\\none.  At the time I couldn\\'t imagine why there should be any lower\\nlimit for the age of startup founders.  Graduation is a bureaucratic\\nchange, not a biological one.  And certainly there are undergrads\\nas competent technically as most grad students.  So why shouldn\\'t\\nundergrads be able to start startups as well as grad students?I now realize that something does change at graduation: you lose a\\nhuge excuse for failing.  Regardless of how complex your life is,\\nyou\\'ll find that everyone else, including your family and friends,\\nwill discard all the low bits and regard you as having a single\\noccupation at any given time.  If you\\'re in college and have a\\nsummer job writing software, you still read as a student.  Whereas\\nif you graduate and get a job programming, you\\'ll be instantly\\nregarded by everyone as a programmer.The problem with starting a startup while you\\'re still in school\\nis that there\\'s a built-in escape hatch.  If you start a startup\\nin the summer between your junior and senior year, it reads to\\neveryone as a summer job.\\nSo if it goes nowhere, big deal; you return to school in the\\nfall with all the other seniors; no one regards you as a failure,\\nbecause your occupation is student, and you didn\\'t fail at that.\\nWhereas if you start a startup just one year later, after you\\ngraduate, as long as you\\'re not accepted to grad school in the fall\\nthe startup reads to everyone as your occupation.  You\\'re\\nnow a startup founder, so you have to do well at that.For nearly everyone, the opinion of one\\'s peers is the most powerful\\nmotivator of all—more powerful even than the nominal goal of most\\nstartup founders, getting rich.  \\n[1]\\nAbout a month into each funding\\ncycle we have an event called Prototype Day where each startup\\npresents to the others what they\\'ve got so far.  You might think\\nthey wouldn\\'t need any more motivation.  They\\'re working on their\\ncool new idea; they have funding for the immediate future; and\\nthey\\'re playing a game with only two outcomes: wealth or failure.\\nYou\\'d think that would be motivation enough.  And yet the prospect\\nof a demo pushes most of them into a\\nrush of activity.Even if you start a startup explicitly to get rich, the money you\\nmight get seems pretty theoretical most of the time.  What drives\\nyou day to day is not wanting to look bad.You probably can\\'t change that.  Even if you could, I don\\'t think\\nyou\\'d want to; someone who really, truly doesn\\'t care what his peers\\nthink of him is probably a psychopath.  So the best you can do is\\nconsider this force like a wind, and set up your boat accordingly.\\nIf you know your peers are going to push you in some direction,\\nchoose good peers, and position yourself so they push you in a\\ndirection you like.Graduation changes the prevailing winds, and those make a difference.\\nStarting a startup is so hard\\nthat it\\'s a close call even for the ones that succeed.  However\\nhigh a startup may be flying now, it probably has a few leaves stuck\\nin the landing gear from those trees it barely cleared at the end\\nof the runway.  In such a close game, the smallest increase in the\\nforces against you can be enough to flick you over the edge into\\nfailure.When we first started Y Combinator \\nwe encouraged people to start\\nstartups while they were still in college.  That\\'s partly because\\nY Combinator began as a kind of summer program.  We\\'ve kept the\\nprogram shape—all of us having dinner together once a week turns\\nout to be a good idea—but we\\'ve decided now\\nthat the party line should be to tell people to wait till they\\ngraduate.Does that mean you can\\'t start a startup in college?  Not at all.\\nSam Altman, the co-founder of Loopt,\\nhad just finished his sophomore year when we funded them, and Loopt\\nis probably the most promising of all the startups we\\'ve funded so\\nfar.  But Sam Altman is a very unusual guy.  Within about three\\nminutes of meeting him, I remember thinking \"Ah, so this is what\\nBill Gates must have been like when he was 19.\"If it can work to start a startup during college, why do\\nwe tell people not to?  For the same reason that the probably\\napocryphal violinist, whenever he was asked to judge someone\\'s\\nplaying, would always say they didn\\'t have enough talent to make\\nit as a pro.  Succeeding as a musician takes determination as well\\nas talent, so this answer works out to be the right advice for\\neveryone.  The ones who are uncertain believe it and give up, and\\nthe ones who are sufficiently determined think \"screw that, I\\'ll\\nsucceed anyway.\"So our official policy now is only to fund undergrads we can\\'t talk\\nout of it.  And frankly, if you\\'re not certain, you should wait.\\nIt\\'s not as if all the opportunities to start companies are going\\nto be gone if you don\\'t do it now.  Maybe the window will close on\\nsome idea you\\'re working on, but that won\\'t be the last idea you\\'ll\\nhave.  For every idea that times out, new ones become feasible.\\nHistorically the opportunities to start startups have only increased\\nwith time.In that case, you might ask, why not wait longer?  Why not go work\\nfor a while, or go to grad school, and then start a startup?  And\\nindeed, that might be a good idea.  If I had to pick the sweet spot\\nfor startup founders, based on who we\\'re most excited to see\\napplications from, I\\'d say it\\'s probably the mid-twenties.  Why?\\nWhat advantages does someone in their mid-twenties have over someone\\nwho\\'s 21?  And why isn\\'t it older?  What can 25 year olds do that\\n32 year olds can\\'t?  Those turn out to be questions worth examining.PlusIf you start a startup soon after college, you\\'ll be a young founder\\nby present standards, so you should know what the relative advantages\\nof young founders are.  They\\'re not what you might think.  As a\\nyoung founder your strengths are: stamina, poverty, rootlessness,\\ncolleagues, and ignorance.The importance of stamina shouldn\\'t be surprising.  If you\\'ve heard\\nanything about startups you\\'ve probably heard about the long hours.\\nAs far as I can tell these are universal.  I can\\'t think of any\\nsuccessful startups whose founders worked 9 to 5.  And it\\'s\\nparticularly necessary for younger founders to work long hours\\nbecause they\\'re probably not as efficient as they\\'ll be later.Your second advantage, poverty, might not sound like an advantage,\\nbut it is a huge one.  Poverty implies you can live cheaply,\\nand this is critically important for startups.  Nearly every startup\\nthat fails, fails by running out of money.  It\\'s a little misleading\\nto put it this way, because there\\'s usually some other underlying\\ncause.  But regardless of the source of your problems, a low burn\\nrate gives you more opportunity to recover from them.  And since\\nmost startups make all kinds of mistakes at first, room to recover\\nfrom mistakes is a valuable thing to have.Most startups end up doing something different than they planned.\\nThe way the successful ones find something that works is by trying\\nthings that don\\'t.  So the worst thing you can do in a startup is\\nto have a rigid, pre-ordained plan and then start spending a lot\\nof money to implement it.  Better to operate cheaply and give your\\nideas time to evolve.Recent grads can live on practically nothing, and this gives you\\nan edge over older founders, because the main cost in software\\nstartups is people.  The guys with kids and mortgages are at a\\nreal disadvantage.  This is one reason I\\'d bet on the 25 year old\\nover the 32 year old.  The 32 year old probably is a better programmer,\\nbut probably also has a much more expensive life.  Whereas a 25\\nyear old has some work experience (more on that later) but can live\\nas cheaply as an undergrad.Robert Morris and I were 29 and 30 respectively when we started\\nViaweb, but fortunately we still lived like 23 year olds.  We both had\\nroughly zero assets.  I would have loved to have a mortgage,\\nsince that would have meant I had a house.  But in retrospect\\nhaving nothing turned out to be convenient. I wasn\\'t tied down and\\nI was used to living cheaply.Even more important than living cheaply, though, is thinking cheaply.\\nOne reason the Apple II was so popular was that it was cheap.  The\\ncomputer itself was cheap, and it used cheap, off-the-shelf peripherals\\nlike a cassette tape recorder for data storage and a TV as a monitor.\\nAnd you know why?  Because Woz designed this computer for himself,\\nand he couldn\\'t afford anything more.We benefitted from the same phenomenon.  Our prices were\\ndaringly low for the time.  The top level of service was\\n$300 a month, which was an order of magnitude below the norm.  In\\nretrospect this was a smart move, but we didn\\'t do it because we\\nwere smart.  $300 a month seemed like a lot of money to us.  Like\\nApple, we created something inexpensive, and therefore popular,\\nsimply because we were poor.A lot of startups have that form: someone comes along and makes\\nsomething for a tenth or a hundredth of what it used to cost, and\\nthe existing players can\\'t follow because they don\\'t even want to\\nthink about a world in which that\\'s possible.  Traditional long\\ndistance carriers, for example, didn\\'t even want to think about\\nVoIP.  (It was coming, all the same.)  Being poor helps in this\\ngame, because your own personal bias points in the same direction\\ntechnology evolves in.The advantages of rootlessness are similar to those of poverty.\\nWhen you\\'re young you\\'re more mobile—not just because you don\\'t\\nhave a house or much stuff, but also because you\\'re less likely to\\nhave serious relationships.  This turns out to be important, because\\na lot of startups involve someone moving.The founders of Kiko, for example, are now en route to the Bay Area\\nto start their next startup.  It\\'s a better place for what they\\nwant to do.  And it was easy for them to decide to go, because\\nneither as far as I know has a serious girlfriend, and everything\\nthey own will fit in one car—or more precisely, will either fit\\nin one car or is crappy enough that they don\\'t mind leaving it\\nbehind.They at least were in Boston.  What if they\\'d been in Nebraska,\\nlike Evan Williams was at their age?   Someone wrote recently that\\nthe drawback of Y Combinator was that you had to move to participate.\\nIt couldn\\'t be any other way. The kind of conversations we have\\nwith founders, we have to have in person.  We fund a dozen startups\\nat a time, and we can\\'t be in a dozen places at once.  But even if\\nwe could somehow magically save people from moving, we wouldn\\'t.\\nWe wouldn\\'t be doing founders a favor by letting them stay in\\nNebraska.  Places that aren\\'t \\nstartup hubs are toxic to startups.\\nYou can tell that from indirect evidence.  You can tell how hard\\nit must be to start a startup in Houston or Chicago or Miami from\\nthe microscopically small number, per capita, that succeed \\nthere.  I don\\'t know exactly what\\'s suppressing all the startups in these\\ntowns—probably a hundred subtle little things—but something\\nmust be.\\n[2]Maybe this will change.  Maybe the increasing cheapness of startups\\nwill mean they\\'ll be able to survive anywhere, instead of only in\\nthe most hospitable environments.  Maybe 37signals is the pattern\\nfor the future.  But maybe not.  Historically there have always\\nbeen certain towns that were centers for certain industries, and\\nif you weren\\'t in one of them you were at a disadvantage.  So my\\nguess is that 37signals is an anomaly.  We\\'re looking at a pattern\\nmuch older than \"Web 2.0\" here.Perhaps the reason more startups per capita happen in the Bay Area\\nthan Miami is simply that there are more founder-type people there.\\nSuccessful startups are almost never started by one person.  Usually\\nthey begin with a conversation in which someone mentions that\\nsomething would be a good idea for a company, and his friend says,\\n\"Yeah, that is a good idea, let\\'s try it.\"  If you\\'re missing that\\nsecond person who says \"let\\'s try it,\" the startup never happens.\\nAnd that is another area where undergrads have an edge.  They\\'re\\nsurrounded by people willing to say that.  At a good college you\\'re\\nconcentrated together with a lot of other ambitious and technically\\nminded people—probably more concentrated than you\\'ll ever be\\nagain.  If your nucleus spits out a neutron, there\\'s a good chance\\nit will hit another nucleus.The number one question people ask us at Y Combinator is: Where can\\nI find a co-founder?  That\\'s the biggest problem for someone starting\\na startup at 30.  When they were in school they knew a lot of good\\nco-founders, but by 30 they\\'ve either lost touch with them or these\\npeople are tied down by jobs they don\\'t want to leave.Viaweb was an anomaly in this respect too.  Though we were comparatively\\nold, we weren\\'t tied down by impressive jobs.  I was trying to be\\nan artist, which is not very constraining, and Robert, though 29,\\nwas still in grad school due to a little interruption in his academic\\ncareer back in 1988.  So arguably the Worm made Viaweb possible.\\nOtherwise Robert would have been a junior professor at that age,\\nand he wouldn\\'t have had time to work on crazy speculative projects\\nwith me.Most of the questions people ask Y Combinator we have some kind of\\nanswer for, but not the co-founder question.  There is no good\\nanswer.  Co-founders really should be people you already know.  And\\nby far the best place to meet them is school. You have a large\\nsample of smart people; you get to compare how they all perform on\\nidentical tasks; and everyone\\'s life is pretty fluid.  A lot of\\nstartups grow out of schools for this reason.  Google, Yahoo, and\\nMicrosoft, among others, were all founded by people who met in\\nschool.  (In Microsoft\\'s case, it was high school.)Many students feel they should wait and get a little more experience\\nbefore they start a company.  All other things being equal, they\\nshould.  But all other things are not quite as equal as they look.\\nMost students don\\'t realize how rich they are in the scarcest\\ningredient in startups, co-founders.  If you wait too long, you may\\nfind that your friends are now involved in some project they don\\'t\\nwant to abandon.  The better they are, the more likely this is to\\nhappen.One way to mitigate this problem might be to actively plan your\\nstartup while you\\'re getting those n years of experience.  Sure,\\ngo off and get jobs or go to grad school or whatever, but get\\ntogether regularly to scheme, so the idea of starting a startup\\nstays alive in everyone\\'s brain.  I don\\'t know if this works, but\\nit can\\'t hurt to try.It would be helpful just to realize what an advantage you have as\\nstudents.  Some of your classmates are probably going to be successful\\nstartup founders; at a great technical university, that is a near\\ncertainty.  So which ones?  If I were you I\\'d look for the people\\nwho are not just smart, but incurable \\nbuilders.  \\nLook\\nfor the people who keep starting projects, and finish at least some\\nof them.  That\\'s what we look for.  Above all else, above academic\\ncredentials and even the idea you apply with, we look for people\\nwho build things.The other place co-founders meet is at work.  Fewer do than at\\nschool, but there are things you can do to improve the odds.  The\\nmost important, obviously, is to work somewhere that has a lot of\\nsmart, young people.  Another is to work for a company located in\\na startup hub.  It will be easier to talk a co-worker into quitting\\nwith you in a place where startups are happening all around you.You might also want to look at the employment agreement you sign\\nwhen you get hired.  Most will say that any ideas you think of while\\nyou\\'re employed by the company belong to them.  In practice it\\'s\\nhard for anyone to prove what ideas you had when, so the line gets\\ndrawn at code.  If you\\'re going to start a startup, don\\'t write any\\nof the code while you\\'re still employed.  Or at least discard any\\ncode you wrote while still employed and start over.  It\\'s not so\\nmuch that your employer will find out and sue you.  It won\\'t come\\nto that; investors or acquirers or (if you\\'re so lucky) underwriters\\nwill nail you first.  Between t = 0 and when you buy that yacht,\\nsomeone is going to ask if any of your code legally belongs\\nto anyone else, and you need to be able to say no.\\n[3]The most overreaching employee agreement I\\'ve seen so far is Amazon\\'s.\\nIn addition to the usual clauses about owning your ideas, you also\\ncan\\'t be a founder of a startup that has another founder who worked\\nat Amazon—even if you didn\\'t know them or even work there at the\\nsame time. I suspect they\\'d have a hard time enforcing this, but\\nit\\'s a bad sign they even try.  There are plenty of other places\\nto work; you may as well choose one that keeps more of your options\\nopen.Speaking of cool places to work, there is of course Google.  But I\\nnotice something slightly frightening about Google: zero startups\\ncome out of there.  In that respect it\\'s a black hole.  People seem\\nto like working at Google too much to leave.  So if you hope to start\\na startup one day, the evidence so far suggests you shouldn\\'t work\\nthere.I realize this seems odd advice.  If they make your life so good\\nthat you don\\'t want to leave, why not work there?  Because, in\\neffect, you\\'re probably getting a local maximum.  You need a certain\\nactivation energy to start a startup.  So an employer who\\'s fairly\\npleasant to work for can lull you into staying indefinitely, even\\nif it would be a net win for you to leave.\\n[4]The best place to work, if you want to start a startup, is probably\\na startup.  In addition to being the right sort of experience, one\\nway or another it will be over quickly.  You\\'ll either end up rich,\\nin which case problem solved, or the startup will get bought, in\\nwhich case it it will start to suck to work there and it will be\\neasy to leave, or most likely, the thing will blow up and you\\'ll\\nbe free again.Your final advantage, ignorance, may not sound very useful.  I\\ndeliberately used a controversial word for it; you might equally\\ncall it innocence.  But it seems to be a powerful force.  My Y\\nCombinator co-founder Jessica Livingston is just about to publish\\na book of interviews\\nwith startup founders, and I noticed a remarkable pattern in them.\\nOne after another said that if they\\'d known how hard it would be,\\nthey would have been too intimidated to start.Ignorance can be useful when it\\'s a counterweight to other forms\\nof stupidity.  It\\'s useful in starting startups because you\\'re\\ncapable of more than you realize.  Starting startups is harder than\\nyou expect, but you\\'re also capable of more than you expect, so\\nthey balance out.Most people look at a company like Apple and think, how could I\\never make such a thing?  Apple is an institution, and I\\'m just a\\nperson.  But every institution was at one point just a handful of\\npeople in a room deciding to start something.  Institutions are\\nmade up, and made up by people no different from you.I\\'m not saying everyone could start a startup.  I\\'m sure most people\\ncouldn\\'t; I don\\'t know much about the population at large.  When\\nyou get to groups I know well, like hackers, I can say more precisely.\\nAt the top schools, I\\'d guess as many as a quarter of the CS majors\\ncould make it as startup founders if they wanted.That \"if they wanted\" is an important qualification—so important\\nthat it\\'s almost cheating to append it like that—because once you\\nget over a certain threshold of intelligence, which most CS majors\\nat top schools are past, the deciding factor in whether you succeed\\nas a founder is how much you want to.  You don\\'t have to be that\\nsmart.  If you\\'re not a genius, just start a startup in some unsexy\\nfield where you\\'ll have less competition, like software for human\\nresources departments.  I picked that example at random, but I feel\\nsafe in predicting that whatever they have now, it wouldn\\'t take\\ngenius to do better.   There are a lot of people out there working\\non boring stuff who are desperately in need of better software, so\\nhowever short you think you fall of Larry and Sergey, you can ratchet\\ndown the coolness of the idea far enough to compensate.As well as preventing you from being intimidated, ignorance can\\nsometimes help you discover new ideas.  Steve Wozniak\\nput this very strongly:\\n\\n  All the best things that I did at Apple came from (a) not having\\n  money and (b) not having done it before, ever. Every single thing\\n  that we came out with that was really great, I\\'d never once done\\n  that thing in my life.\\n\\nWhen you know nothing, you have to reinvent stuff for yourself, and\\nif you\\'re smart your reinventions may be better than what preceded\\nthem.  This is especially true in fields where the rules change.\\nAll our ideas about software were developed in a time when processors\\nwere slow, and memories and disks were tiny.  Who knows what obsolete\\nassumptions are embedded in the conventional wisdom?  And the way\\nthese assumptions are going to get fixed is not by explicitly\\ndeallocating them, but by something more akin to garbage collection.\\nSomeone ignorant but smart will come along and reinvent everything,\\nand in the process simply fail to reproduce certain existing ideas.MinusSo much for the advantages of young founders.  What about the\\ndisadvantages? I\\'m going to start with what goes wrong and try to\\ntrace it back to the root causes.What goes wrong with young founders is that they build stuff that\\nlooks like class projects.  It was only recently that we figured\\nthis out ourselves.  We noticed a lot of similarities between the\\nstartups that seemed to be falling behind, but we couldn\\'t figure\\nout how to put it into words.  Then finally we realized what it\\nwas: they were building class projects.But what does that really mean?  What\\'s wrong with class projects?\\nWhat\\'s the difference between a class project and a real startup?\\nIf we could answer that question it would be useful not just to\\nwould-be startup founders but to students in general, because we\\'d\\nbe a long way toward explaining the mystery of the so-called real\\nworld.There seem to be two big things missing in class projects: (1) an\\niterative definition of a real problem and (2) intensity.The first is probably unavoidable.  Class projects will inevitably\\nsolve fake problems.  For one thing, real problems are rare and\\nvaluable.  If a professor wanted to have students solve real problems,\\nhe\\'d face the same paradox as someone trying to give an example of\\nwhatever \"paradigm\" might succeed the Standard Model of physics.\\nThere may well be something that does, but if you could think of\\nan example you\\'d be entitled to the Nobel Prize.  Similarly, good\\nnew problems are not to be had for the asking.In technology the difficulty is compounded by the fact that real\\nstartups tend to discover the problem they\\'re solving by a process\\nof evolution.  Someone has an idea for something; they build it;\\nand in doing so (and probably only by doing so) they realize\\nthe problem they should be solving is another one.  Even if the\\nprofessor let you change your project description on the fly, there\\nisn\\'t time enough to do that in a college class, or a market to\\nsupply evolutionary pressures.  So class\\nprojects are mostly about implementation, which is the least\\nof your problems in a startup.It\\'s not just that in a startup you work on the idea as well as\\nimplementation.  The very implementation is different.  Its main\\npurpose is to refine the idea.  Often the only value of most of the\\nstuff you build in the first six months is that it proves your\\ninitial idea was mistaken.  And that\\'s extremely valuable.  If\\nyou\\'re free of a misconception that everyone else still shares,\\nyou\\'re in a powerful position.  But you\\'re not thinking that way\\nabout a class project.  Proving your initial plan was mistaken would\\njust get you a bad grade.  Instead of building stuff to throw away,\\nyou tend to want every line of code to go toward that final goal\\nof showing you did a lot of work.That leads to our second difference: the way class projects are\\nmeasured.  Professors will tend to judge you by the distance between\\nthe starting point and where you are now.  If someone has achieved\\na lot, they should get a good grade.  But customers will judge you\\nfrom the other direction: the distance remaining between where you\\nare now and the features they need.  The market doesn\\'t give a shit\\nhow hard you worked.  Users just want your software to do what they\\nneed, and you get a zero otherwise.  That is one of the most\\ndistinctive differences between school and the real world: there\\nis no reward for putting in a good effort.  In fact, the whole\\nconcept of a \"good effort\" is a fake idea adults invented to encourage\\nkids.  It is not found in nature.Such lies seem to be helpful to kids.  But unfortunately when you\\ngraduate they don\\'t give you a list of all the lies they told you\\nduring your education.  You have to get them beaten out of you by\\ncontact with the real world.  And this is why so many jobs want\\nwork experience.  I couldn\\'t understand that when I was in college.\\nI knew how to program.  In fact, I could tell I knew how to program\\nbetter than most people doing it for a living.  So what was this\\nmysterious \"work experience\" and why did I need it?Now I know what it is, and part of the confusion is grammatical.\\nDescribing it as \"work experience\" implies it\\'s like experience\\noperating a certain kind of machine, or using a certain programming\\nlanguage.  But really what work experience refers to is not some\\nspecific expertise, but the elimination of certain habits left over\\nfrom childhood.One of the defining qualities of kids is that they flake.  When\\nyou\\'re a kid and you face some hard test, you can cry and say \"I\\ncan\\'t\" and they won\\'t make you do it.  Of course, no one can make\\nyou do anything in the grownup world either.  What they do instead\\nis fire you.  And when motivated by that\\nyou find you can do a lot more than you realized.  So one of the\\nthings employers expect from someone with \"work experience\" is the\\nelimination of the flake reflex—the ability to get things done,\\nwith no excuses.The other thing you get from work experience is an understanding\\nof what work is, and in particular, how intrinsically horrible it\\nis.  Fundamentally the equation is a brutal one: you have to spend\\nmost of your waking hours doing stuff someone else wants, or starve.\\nThere are a few places where the work is so interesting that this\\nis concealed, because what other people want done happens to coincide\\nwith what you want to work on.  But you only have to imagine what\\nwould happen if they diverged to see the underlying reality.It\\'s not so much that adults lie to kids about this as never explain\\nit.  They never explain what the deal is with money.  You know from\\nan early age that you\\'ll have some sort of job, because everyone\\nasks what you\\'re going to \"be\" when you grow up. What they\\ndon\\'t tell you is that as a kid you\\'re sitting on the shoulders of\\nsomeone else who\\'s treading water, and that starting working means\\nyou get thrown into the water on your own, and have to start treading\\nwater yourself or sink.  \"Being\" something is incidental; the\\nimmediate problem is not to drown.The relationship between work and money tends to dawn on you only\\ngradually.  At least it did for me.  One\\'s first thought tends to\\nbe simply \"This sucks.  I\\'m in debt. Plus I have to get up on monday\\nand go to work.\"  Gradually you realize that these two things are\\nas tightly connected as only a market can make them.So the most important advantage 24 year old founders have over 20\\nyear old founders is that they know what they\\'re trying to avoid.\\nTo the average undergrad the idea of getting rich translates into\\nbuying Ferraris, or being admired.  To someone who has learned from\\nexperience about the relationship between money and work, it\\ntranslates to something way more important: it means you get to opt\\nout of the brutal equation that governs the lives of 99.9% of people.\\nGetting rich means you can stop treading water.Someone who gets this will work much harder at making a startup\\nsucceed—with the proverbial energy of a drowning man, in fact.\\nBut understanding the relationship between money and work also\\nchanges the way you work.  You don\\'t get money just for working,\\nbut for doing things other people want.  Someone who\\'s figured that\\nout will automatically focus more on the user.  And that cures the\\nother half of the class-project syndrome.  After you\\'ve been working\\nfor a while, you yourself tend to measure what you\\'ve done the same\\nway the market does.Of course, you don\\'t have to spend years working to learn this\\nstuff.  If you\\'re sufficiently perceptive you can grasp these things\\nwhile you\\'re still in school.  Sam Altman did.  He must have, because\\nLoopt is no class project.  And as his example suggests, this can\\nbe valuable knowledge.  At a minimum, if you get this stuff, you\\nalready have most of what you gain from the \"work experience\"\\nemployers consider so desirable.  But of course if you really get\\nit, you can use this information in a way that\\'s more valuable to\\nyou than that.NowSo suppose you think you might start a startup at some point, either\\nwhen you graduate or a few years after.  What should you do now?\\nFor both jobs and grad school, there are ways to prepare while\\nyou\\'re in college.  If you want to get a job when you graduate, you\\nshould get summer jobs at places you\\'d like to work.  If you want\\nto go to grad school, it will help to work on research projects as\\nan undergrad.  What\\'s the equivalent for startups?  How do you keep\\nyour options maximally open?One thing you can do while you\\'re still in school is to learn how\\nstartups work.  Unfortunately that\\'s not easy.  Few if any colleges\\nhave classes about startups.  There may be business school classes\\non entrepreneurship, as they call it over there, but these are\\nlikely to be a waste of time.  Business schools like to talk about\\nstartups, but philosophically they\\'re at the opposite end of the\\nspectrum.  Most books on startups also seem to be useless.  I\\'ve\\nlooked at a few and none get it right.  Books in most fields are\\nwritten by people who know the subject from experience, but for\\nstartups there\\'s a unique problem:  by definition the founders of\\nsuccessful startups don\\'t need to write books to make money. As a\\nresult most books on the subject end up being written by people who\\ndon\\'t understand it.So I\\'d be skeptical of classes and books.  The way to learn about\\nstartups is by watching them in action, preferably by working at\\none.  How do you do that as an undergrad?  Probably by sneaking in\\nthrough the back door. Just hang around a lot and gradually start\\ndoing things for them.  Most startups are (or should be) very\\ncautious about hiring.  Every hire increases the burn rate, and bad\\nhires early on are hard to recover from.  However, startups usually\\nhave a fairly informal atmosphere, and there\\'s always a lot that\\nneeds to be done.  If you just start doing stuff for them, many\\nwill be too busy to shoo you away.  You can thus gradually work\\nyour way into their confidence, and maybe turn it into an official\\njob later, or not, whichever you prefer.  This won\\'t work for all\\nstartups, but it would work for most I\\'ve known.Number two, make the most of the great advantage of school: the\\nwealth of co-founders.  Look at the people around you and ask\\nyourself which you\\'d like to work with.  When you apply that test,\\nyou may find you get surprising results.  You may find you\\'d prefer\\nthe quiet guy you\\'ve mostly ignored to someone who seems impressive\\nbut has an attitude to match.  I\\'m not suggesting you suck up to\\npeople you don\\'t really like because you think one day they\\'ll be\\nsuccessful.  Exactly the opposite, in fact: you should only start\\na startup with someone you like, because a startup will put your\\nfriendship through a stress test.  I\\'m just saying you should think\\nabout who you really admire and hang out with them, instead of\\nwhoever circumstances throw you together with.Another thing you can do is learn skills that will be useful to you\\nin a startup.  These may be different from the skills you\\'d learn\\nto get a job.  For example, thinking about getting a job will make\\nyou want to learn programming languages you think employers want,\\nlike Java and C++.  Whereas if you start a startup, you get to pick\\nthe language, so you have to think about which will actually let\\nyou get the most done.  If you use that test you might end up\\nlearning Ruby or Python instead.\\nBut the most important skill for a startup founder isn\\'t a programming\\ntechnique.  It\\'s a knack for understanding users and figuring out\\nhow to give them what they want.  I know I repeat this, but that\\'s\\nbecause it\\'s so important.  And it\\'s a skill you can learn, though\\nperhaps habit might be a better word.  Get into the habit of thinking\\nof software as having users.  What do those users want?  What would\\nmake them say wow?This is particularly valuable for undergrads, because the concept\\nof users is missing from most college programming classes.  The way\\nyou get taught programming in college would be like teaching writing\\nas grammar, without mentioning that its purpose is to communicate\\nsomething to an audience.  Fortunately an audience for software is\\nnow only an http request away.  So in addition to the programming\\nyou do for your classes, why not build some kind of website people\\nwill find useful?  At the very least it will teach you how to write\\nsoftware with users.  In the best case, it might not just be\\npreparation for a startup, but the startup itself, like it was for\\nYahoo and Google.Notes[1]\\nEven the desire to protect one\\'s children seems weaker, judging\\nfrom things people have historically done to their kids\\nrather than risk their community\\'s disapproval.  (I assume we still\\ndo things that will be regarded in the future as barbaric, but\\nhistorical abuses are easier for us to see.)[2]\\nWorrying that Y Combinator makes founders move for 3 months\\nalso suggests one underestimates how hard it is to start a startup.\\nYou\\'re going to have to put up with much greater inconveniences than\\nthat.[3]\\nMost employee agreements\\nsay that any idea relating to the company\\'s present or potential\\nfuture business belongs to them.  Often as not the second clause could\\ninclude any possible startup, and anyone doing due diligence for an \\ninvestor or acquirer will assume the worst.To be safe either (a) don\\'t use code written while you\\nwere still employed in your previous job, or (b) get your employer to\\nrenounce, in writing, any claim to the code you write for your side   \\nproject.  Many will consent to (b) rather than\\nlose a prized employee.  The downside is that you\\'ll have to tell them\\nexactly what your project does.[4]\\nGeshke and Warnock only founded Adobe because Xerox ignored\\nthem.  If Xerox had used what they built, they would probably \\nnever have left PARC.Thanks to Jessica Livingston and Robert Morris for reading\\ndrafts of this, and to Jeff Arnold and the SIPB for inviting me to\\nspeak.\\n\\nComment on this essay.', path=None, url=None, mimetype=None), image_resource=None, audio_resource=None, video_resource=None, text_template='{metadata_str}\\n\\n{content}')]"
      ]
     },
     "execution_count": 61,
     "metadata": {},
     "output_type": "execute_result"
    }
   ],
   "source": [
    "documents"
   ]
  },
  {
   "cell_type": "markdown",
   "id": "d40f0688",
   "metadata": {},
   "source": [
    "We can see that SimpleDirectoryReader adds more information when loading the data, that could be useful after chunking the data in the document."
   ]
  },
  {
   "cell_type": "markdown",
   "id": "1de3d474",
   "metadata": {},
   "source": [
    "In Llama Index nomenclature for chunk of data is node. Nodes are similar to documents but with more relationship data added to them."
   ]
  },
  {
   "cell_type": "code",
   "execution_count": 62,
   "id": "0934906a",
   "metadata": {},
   "outputs": [],
   "source": [
    "# splitting the data using llama_index SentenceSplitter\n",
    "nodes = splitter.get_nodes_from_documents(documents)"
   ]
  },
  {
   "cell_type": "code",
   "execution_count": 63,
   "id": "2959ff31",
   "metadata": {},
   "outputs": [
    {
     "name": "stdout",
     "output_type": "stream",
     "text": [
      "Node ID: 76ef7900-f1b9-4d8c-a44a-a1955c98caca\n",
      "Text: Want to start a startup?  Get funded by Y Combinator.\n",
      "October 2006(This essay is derived from a talk at MIT.) Till recently\n",
      "graduating seniors had two choices: get a job or go to grad school.  I\n",
      "think there will increasingly be a third option: to start your own\n",
      "startup.  But how common will that be?I'm sure the default will always\n",
      "be to get ...\n"
     ]
    },
    {
     "data": {
      "text/plain": [
       "TextNode(id_='76ef7900-f1b9-4d8c-a44a-a1955c98caca', embedding=None, metadata={'file_path': 'data\\\\mit.txt', 'file_name': 'mit.txt', 'file_type': 'text/plain', 'file_size': 36045, 'creation_date': '2025-03-18', 'last_modified_date': '2025-03-18'}, excluded_embed_metadata_keys=['file_name', 'file_type', 'file_size', 'creation_date', 'last_modified_date', 'last_accessed_date'], excluded_llm_metadata_keys=['file_name', 'file_type', 'file_size', 'creation_date', 'last_modified_date', 'last_accessed_date'], relationships={<NodeRelationship.SOURCE: '1'>: RelatedNodeInfo(node_id='4480bb4a-2992-4f43-93c1-7152ecf6ff60', node_type=<ObjectType.DOCUMENT: '4'>, metadata={'file_path': 'data\\\\mit.txt', 'file_name': 'mit.txt', 'file_type': 'text/plain', 'file_size': 36045, 'creation_date': '2025-03-18', 'last_modified_date': '2025-03-18'}, hash='9d9100a4b75ae4d5bae2183afa516771e67968deec164e25896e466d37f66865'), <NodeRelationship.NEXT: '3'>: RelatedNodeInfo(node_id='32542a12-12e7-4daf-8733-182b9ec59860', node_type=<ObjectType.TEXT: '1'>, metadata={}, hash='5ebb6555924d31f20f1f5243ea3bfb18231fbb946cb76f497dbc73310fa36d3a')}, metadata_template='{key}: {value}', metadata_separator='\\n', text=\"Want to start a startup?  Get funded by\\nY Combinator.\\n\\n\\n\\n\\nOctober 2006(This essay is derived from a talk at MIT.)\\nTill recently graduating seniors had two choices: get a job or go\\nto grad school.  I think there will increasingly be a third option:\\nto start your own startup.  But how common will that be?I'm sure the default will always be to get a job, but starting a\\nstartup could well become as popular as grad school.  In the late\\n90s my professor friends used to complain that they couldn't get\\ngrad students, because all the undergrads were going to work for\\nstartups.\", mimetype='text/plain', start_char_idx=2, end_char_idx=576, metadata_seperator='\\n', text_template='{metadata_str}\\n\\n{content}')"
      ]
     },
     "execution_count": 63,
     "metadata": {},
     "output_type": "execute_result"
    }
   ],
   "source": [
    "# viewing the single chunk\n",
    "print(nodes[0])\n",
    "\n",
    "# seeing other metadata that is loaded in the node\n",
    "nodes[0]"
   ]
  },
  {
   "cell_type": "markdown",
   "id": "854afb41",
   "metadata": {},
   "source": [
    "We can see that there are various metadata and relation data that has been assigned to the chunk like \n",
    " - id\n",
    " - embedding\n",
    " - metadata\n",
    " - excluded_embed_metadata_keys\n",
    " - excluded_llm_metadata_keys\n",
    " - relationships\n",
    " - and so on.\n",
    " \n",
    "\n",
    "this will help LLM to retrieve the data more efficiently."
   ]
  },
  {
   "cell_type": "markdown",
   "id": "aa8ebe31",
   "metadata": {},
   "source": [
    "### Level 2: Recrusive Character Text Splitting"
   ]
  },
  {
   "cell_type": "markdown",
   "id": "47ca5c0e",
   "metadata": {},
   "source": [
    "The problem with Level #1 is that we don't take into account the structure of our document at all. We simply split by a fix number of characters.\n",
    "\n",
    "The Recursive Character Text Splitter helps with this. With it, we'll specify a series of separatators which will be used to split our docs.\n",
    "\n",
    "You can see the default separators for LangChain [here](https://github.com/langchain-ai/langchain/blob/9ef2feb6747f5a69d186bd623b569ad722829a5e/libs/langchain/langchain/text_splitter.py#L842). Let's take a look at them one by one.\n",
    "\n",
    " - \"\\n\\n\" - Double new line, or most commonly paragraph breaks\n",
    " - \"\\n\" - New lines\n",
    " - \" \" - Spaces\n",
    " - \"\" - Characters\n",
    " \n",
    "I'm not sure why a period (\".\") isn't included on the list, perhaps it is not universal enough? If you know, let me know.\n",
    "\n",
    "This is the swiss army knife of splitters and my first choice when mocking up a quick application. If you don't know which splitter to start with, this is a good first bet.\n",
    "\n",
    "Let's try it out"
   ]
  },
  {
   "cell_type": "code",
   "execution_count": 5,
   "id": "bdf072f2",
   "metadata": {},
   "outputs": [],
   "source": [
    "from langchain.text_splitter import RecursiveCharacterTextSplitter"
   ]
  },
  {
   "cell_type": "code",
   "execution_count": 10,
   "id": "938eb791",
   "metadata": {},
   "outputs": [],
   "source": [
    "text = \"\"\"\n",
    "One of the most important things I didn't understand about the world when I was a child is the degree to which the returns for performance are superlinear.\n",
    "\n",
    "Teachers and coaches implicitly told us the returns were linear. \"You get out,\" I heard a thousand times, \"what you put in.\" They meant well, but this is rarely true. If your product is only half as good as your competitor's, you don't get half as many customers. You get no customers, and you go out of business.\n",
    "\n",
    "It's obviously true that the returns for performance are superlinear in business. Some think this is a flaw of capitalism, and that if we changed the rules it would stop being true. But superlinear returns for performance are a feature of the world, not an artifact of rules we've invented. We see the same pattern in fame, power, military victories, knowledge, and even benefit to humanity. In all of these, the rich get richer. [1]\n",
    "\"\"\""
   ]
  },
  {
   "cell_type": "code",
   "execution_count": 97,
   "id": "32149d05",
   "metadata": {},
   "outputs": [],
   "source": [
    "text_splitter = RecursiveCharacterTextSplitter(chunk_size = 65, chunk_overlap = 10)"
   ]
  },
  {
   "cell_type": "code",
   "execution_count": 98,
   "id": "072581b4",
   "metadata": {},
   "outputs": [
    {
     "data": {
      "text/plain": [
       "[Document(metadata={}, page_content=\"One of the most important things I didn't understand about the\"),\n",
       " Document(metadata={}, page_content='about the world when I was a child is the degree to which the'),\n",
       " Document(metadata={}, page_content='which the returns for performance are superlinear.'),\n",
       " Document(metadata={}, page_content='Teachers and coaches implicitly told us the returns were linear.'),\n",
       " Document(metadata={}, page_content='linear. \"You get out,\" I heard a thousand times, \"what you put'),\n",
       " Document(metadata={}, page_content='you put in.\" They meant well, but this is rarely true. If your'),\n",
       " Document(metadata={}, page_content=\"If your product is only half as good as your competitor's, you\"),\n",
       " Document(metadata={}, page_content=\"you don't get half as many customers. You get no customers, and\"),\n",
       " Document(metadata={}, page_content='and you go out of business.'),\n",
       " Document(metadata={}, page_content=\"It's obviously true that the returns for performance are\"),\n",
       " Document(metadata={}, page_content='are superlinear in business. Some think this is a flaw of'),\n",
       " Document(metadata={}, page_content='a flaw of capitalism, and that if we changed the rules it would'),\n",
       " Document(metadata={}, page_content='it would stop being true. But superlinear returns for'),\n",
       " Document(metadata={}, page_content='for performance are a feature of the world, not an artifact of'),\n",
       " Document(metadata={}, page_content=\"of rules we've invented. We see the same pattern in fame, power,\"),\n",
       " Document(metadata={}, page_content='power, military victories, knowledge, and even benefit to'),\n",
       " Document(metadata={}, page_content='to humanity. In all of these, the rich get richer. [1]')]"
      ]
     },
     "execution_count": 98,
     "metadata": {},
     "output_type": "execute_result"
    }
   ],
   "source": [
    "# splitting the text\n",
    "chunks = text_splitter.create_documents([text])\n",
    "\n",
    "# viewing the chunk\n",
    "chunks"
   ]
  },
  {
   "cell_type": "markdown",
   "id": "aa5b6724",
   "metadata": {},
   "source": [
    "We can see that we are getting complete words in the chunks, but we are still splitting the sentences and that's not good. We are loosing the context because of the split that is happening between the sentences."
   ]
  },
  {
   "cell_type": "markdown",
   "id": "a9ce141e",
   "metadata": {},
   "source": [
    "We can see many chunks ending with \".\", that's because that must be the end of the paragraph and RecursiveCharacterTextSplitter took into consideration the splitter \"\\n\\n\". \n",
    "\n",
    "When the chunk size is still larger then it will look for the next splitter i.e. \"\\n\" and so on as meniton above about the splitter present in the RecursiveCharacterTextSplitter. \n",
    "\n",
    "To overcome the sentences getting separatored from between we can increase the chunk_size to a larger number, let's see."
   ]
  },
  {
   "cell_type": "code",
   "execution_count": 8,
   "id": "d9316703",
   "metadata": {},
   "outputs": [],
   "source": [
    "text_splitter = RecursiveCharacterTextSplitter(chunk_size = 450, chunk_overlap = 10)"
   ]
  },
  {
   "cell_type": "code",
   "execution_count": 11,
   "id": "680fd979",
   "metadata": {},
   "outputs": [
    {
     "data": {
      "text/plain": [
       "[Document(metadata={}, page_content=\"One of the most important things I didn't understand about the world when I was a child is the degree to which the returns for performance are superlinear.\"),\n",
       " Document(metadata={}, page_content='Teachers and coaches implicitly told us the returns were linear. \"You get out,\" I heard a thousand times, \"what you put in.\" They meant well, but this is rarely true. If your product is only half as good as your competitor\\'s, you don\\'t get half as many customers. You get no customers, and you go out of business.'),\n",
       " Document(metadata={}, page_content=\"It's obviously true that the returns for performance are superlinear in business. Some think this is a flaw of capitalism, and that if we changed the rules it would stop being true. But superlinear returns for performance are a feature of the world, not an artifact of rules we've invented. We see the same pattern in fame, power, military victories, knowledge, and even benefit to humanity. In all of these, the rich get richer. [1]\")]"
      ]
     },
     "execution_count": 11,
     "metadata": {},
     "output_type": "execute_result"
    }
   ],
   "source": [
    "text_splitter.create_documents([text])"
   ]
  },
  {
   "cell_type": "markdown",
   "id": "8ec82158",
   "metadata": {},
   "source": [
    "We can see that most of the chunks are ending with \".\"."
   ]
  },
  {
   "cell_type": "markdown",
   "id": "490f698c",
   "metadata": {},
   "source": [
    "### Level 3: Document Specific Splitting"
   ]
  },
  {
   "cell_type": "markdown",
   "id": "2f51724c",
   "metadata": {},
   "source": [
    "We will learn about chunking in a document where we might have not only text, but code snipets, tables, images and many more things. \n",
    "\n",
    "Let's start with markdown, python and JS Splitter.\n",
    "\n",
    "We should also see the document splitter in LangChain and Llama Index"
   ]
  },
  {
   "cell_type": "markdown",
   "id": "3cd2ecf0",
   "metadata": {},
   "source": [
    "#### Markdown"
   ]
  },
  {
   "cell_type": "markdown",
   "id": "02df8889",
   "metadata": {},
   "source": [
    "We have different set of splitter for markdown in Langchain like header, code blocks, horizontal lines, double lines and so on.\n",
    "\n",
    "Let's try"
   ]
  },
  {
   "cell_type": "code",
   "execution_count": 14,
   "id": "c9e7e9df",
   "metadata": {},
   "outputs": [],
   "source": [
    "# import MarkdownTextSplitter from langchain\n",
    "from langchain.text_splitter import MarkdownTextSplitter"
   ]
  },
  {
   "cell_type": "code",
   "execution_count": 32,
   "id": "3f94f6d3",
   "metadata": {},
   "outputs": [],
   "source": [
    "# initiate the markdown splitter\n",
    "splitter = MarkdownTextSplitter(chunk_size = 40, chunk_overlap = 0)"
   ]
  },
  {
   "cell_type": "code",
   "execution_count": 33,
   "id": "c68bb0ac",
   "metadata": {},
   "outputs": [],
   "source": [
    "# define the markdown text for using as example\n",
    "\n",
    "markdown_text = \"\"\"\n",
    "# Fun in California\n",
    "\n",
    "## Driving\n",
    "\n",
    "Try driving on the 1 down to San Diego\n",
    "\n",
    "### Food\n",
    "\n",
    "Make sure to eat a burrito while you're there\n",
    "\n",
    "## Hiking\n",
    "\n",
    "Go to Yosemite\n",
    "\"\"\""
   ]
  },
  {
   "cell_type": "code",
   "execution_count": 34,
   "id": "a00a8bef",
   "metadata": {},
   "outputs": [
    {
     "data": {
      "text/plain": [
       "[Document(metadata={}, page_content='# Fun in California\\n\\n## Driving'),\n",
       " Document(metadata={}, page_content='Try driving on the 1 down to San Diego'),\n",
       " Document(metadata={}, page_content='### Food'),\n",
       " Document(metadata={}, page_content=\"Make sure to eat a burrito while you're\"),\n",
       " Document(metadata={}, page_content='there'),\n",
       " Document(metadata={}, page_content='## Hiking\\n\\nGo to Yosemite')]"
      ]
     },
     "execution_count": 34,
     "metadata": {},
     "output_type": "execute_result"
    }
   ],
   "source": [
    "# split the markdown text\n",
    "splitter.create_documents([markdown_text])"
   ]
  },
  {
   "cell_type": "markdown",
   "id": "cd060a3d",
   "metadata": {},
   "source": [
    "We can see that how the markdown text is getting splitted into different chunks using heading, text and different things.\n",
    "\n",
    "But still it's not better as we are getting a chunk with just \"there\" in it. "
   ]
  },
  {
   "cell_type": "markdown",
   "id": "8bbca9eb",
   "metadata": {},
   "source": [
    "#### Python"
   ]
  },
  {
   "cell_type": "markdown",
   "id": "0b343308",
   "metadata": {},
   "source": [
    "We can do it for python, but instead of having markdown splitter we can have a python splitter."
   ]
  },
  {
   "cell_type": "code",
   "execution_count": 35,
   "id": "151f2f07",
   "metadata": {},
   "outputs": [],
   "source": [
    "# import python code splitter\n",
    "from langchain.text_splitter import PythonCodeTextSplitter"
   ]
  },
  {
   "cell_type": "code",
   "execution_count": 37,
   "id": "f0b99c8e",
   "metadata": {},
   "outputs": [],
   "source": [
    "# initiate the python code splitter\n",
    "python_splitter = PythonCodeTextSplitter(chunk_size = 100, chunk_overlap = 0)"
   ]
  },
  {
   "cell_type": "code",
   "execution_count": 38,
   "id": "fc96c1c6",
   "metadata": {},
   "outputs": [],
   "source": [
    "# python code as example\n",
    "python_text = \"\"\"\n",
    "class Person:\n",
    "  def __init__(self, name, age):\n",
    "    self.name = name\n",
    "    self.age = age\n",
    "\n",
    "p1 = Person(\"John\", 36)\n",
    "\n",
    "for i in range(10):\n",
    "    print (i)\n",
    "\"\"\""
   ]
  },
  {
   "cell_type": "code",
   "execution_count": 39,
   "id": "985e4716",
   "metadata": {},
   "outputs": [
    {
     "data": {
      "text/plain": [
       "[Document(metadata={}, page_content='class Person:\\n  def __init__(self, name, age):\\n    self.name = name\\n    self.age = age'),\n",
       " Document(metadata={}, page_content='p1 = Person(\"John\", 36)\\n\\nfor i in range(10):\\n    print (i)')]"
      ]
     },
     "execution_count": 39,
     "metadata": {},
     "output_type": "execute_result"
    }
   ],
   "source": [
    "python_splitter.create_documents([python_text])"
   ]
  },
  {
   "cell_type": "markdown",
   "id": "03ab5011",
   "metadata": {},
   "source": [
    "We will have to change the chunk_size for better chunking of code snippets."
   ]
  },
  {
   "cell_type": "markdown",
   "id": "af35d838",
   "metadata": {},
   "source": [
    "#### JavaScript"
   ]
  },
  {
   "cell_type": "markdown",
   "id": "c34d35fb",
   "metadata": {},
   "source": [
    "Similar to python we have bunch of separator for javascript. We will use RecursiveCharacterTextSplitter and pass the language like JS that we are splitting."
   ]
  },
  {
   "cell_type": "code",
   "execution_count": 42,
   "id": "f8db9312",
   "metadata": {},
   "outputs": [],
   "source": [
    "# import recursive and language \n",
    "from langchain.text_splitter import RecursiveCharacterTextSplitter, Language"
   ]
  },
  {
   "cell_type": "code",
   "execution_count": 43,
   "id": "69c0149d",
   "metadata": {},
   "outputs": [],
   "source": [
    "# example\n",
    "javascript_text = \"\"\"\n",
    "// Function is called, the return value will end up in x\n",
    "let x = myFunction(4, 3);\n",
    "\n",
    "function myFunction(a, b) {\n",
    "// Function returns the product of a and b\n",
    "  return a * b;\n",
    "}\n",
    "\"\"\""
   ]
  },
  {
   "cell_type": "code",
   "execution_count": 46,
   "id": "881164c0",
   "metadata": {},
   "outputs": [],
   "source": [
    "# initiate the recursive splitter\n",
    "javascript_splitter = RecursiveCharacterTextSplitter.from_language(\n",
    "    language = Language.JS, chunk_size = 65, chunk_overlap = 0\n",
    ")"
   ]
  },
  {
   "cell_type": "code",
   "execution_count": 47,
   "id": "9cedf701",
   "metadata": {},
   "outputs": [
    {
     "data": {
      "text/plain": [
       "[Document(metadata={}, page_content='// Function is called, the return value will end up in x'),\n",
       " Document(metadata={}, page_content='let x = myFunction(4, 3);'),\n",
       " Document(metadata={}, page_content='function myFunction(a, b) {'),\n",
       " Document(metadata={}, page_content='// Function returns the product of a and b\\n  return a * b;\\n}')]"
      ]
     },
     "execution_count": 47,
     "metadata": {},
     "output_type": "execute_result"
    }
   ],
   "source": [
    "javascript_splitter.create_documents([javascript_text])"
   ]
  },
  {
   "cell_type": "markdown",
   "id": "f65e3661",
   "metadata": {},
   "source": [
    "### PDF w/ Tables"
   ]
  },
  {
   "cell_type": "markdown",
   "id": "3de3927f",
   "metadata": {},
   "source": [
    "PDF are most common source of data for Language model. Often they contain tables and images that could be financial data, studies, academic papers, etc.\n",
    "\n",
    "Character based splitting is not the best practise of pdf and for deep dive there is one lecture from Lance Martin w/ Langchain.\n",
    "\n",
    "We are just seeing the text based method in this, but we can pull tables using vision rather then text.\n",
    "\n",
    "using Unstructed, library that is dedicated to making data LLM ready."
   ]
  },
  {
   "cell_type": "code",
   "execution_count": 2,
   "id": "ae325b16",
   "metadata": {},
   "outputs": [],
   "source": [
    "# import libraries\n",
    "import os\n",
    "from unstructured.partition.pdf import partition_pdf\n",
    "from unstructured.staging.base import elements_to_json"
   ]
  },
  {
   "cell_type": "code",
   "execution_count": 3,
   "id": "4d2f0ca3",
   "metadata": {},
   "outputs": [
    {
     "data": {
      "application/vnd.jupyter.widget-view+json": {
       "model_id": "8ddf829178da442f9775eec2359dc258",
       "version_major": 2,
       "version_minor": 0
      },
      "text/plain": [
       "yolox_l0.05.onnx:   0%|          | 0.00/217M [00:00<?, ?B/s]"
      ]
     },
     "metadata": {},
     "output_type": "display_data"
    },
    {
     "ename": "PDFInfoNotInstalledError",
     "evalue": "Unable to get page count. Is poppler installed and in PATH?",
     "output_type": "error",
     "traceback": [
      "\u001b[1;31m---------------------------------------------------------------------------\u001b[0m",
      "\u001b[1;31mFileNotFoundError\u001b[0m                         Traceback (most recent call last)",
      "File \u001b[1;32mG:\\GEN_AI_Projects\\GEN_AI_RAG_LEARN\\.venv\\lib\\site-packages\\pdf2image\\pdf2image.py:581\u001b[0m, in \u001b[0;36mpdfinfo_from_path\u001b[1;34m(pdf_path, userpw, ownerpw, poppler_path, rawdates, timeout, first_page, last_page)\u001b[0m\n\u001b[0;32m    580\u001b[0m     env[\u001b[38;5;124m\"\u001b[39m\u001b[38;5;124mLD_LIBRARY_PATH\u001b[39m\u001b[38;5;124m\"\u001b[39m] \u001b[38;5;241m=\u001b[39m poppler_path \u001b[38;5;241m+\u001b[39m \u001b[38;5;124m\"\u001b[39m\u001b[38;5;124m:\u001b[39m\u001b[38;5;124m\"\u001b[39m \u001b[38;5;241m+\u001b[39m env\u001b[38;5;241m.\u001b[39mget(\u001b[38;5;124m\"\u001b[39m\u001b[38;5;124mLD_LIBRARY_PATH\u001b[39m\u001b[38;5;124m\"\u001b[39m, \u001b[38;5;124m\"\u001b[39m\u001b[38;5;124m\"\u001b[39m)\n\u001b[1;32m--> 581\u001b[0m proc \u001b[38;5;241m=\u001b[39m \u001b[43mPopen\u001b[49m\u001b[43m(\u001b[49m\u001b[43mcommand\u001b[49m\u001b[43m,\u001b[49m\u001b[43m \u001b[49m\u001b[43menv\u001b[49m\u001b[38;5;241;43m=\u001b[39;49m\u001b[43menv\u001b[49m\u001b[43m,\u001b[49m\u001b[43m \u001b[49m\u001b[43mstdout\u001b[49m\u001b[38;5;241;43m=\u001b[39;49m\u001b[43mPIPE\u001b[49m\u001b[43m,\u001b[49m\u001b[43m \u001b[49m\u001b[43mstderr\u001b[49m\u001b[38;5;241;43m=\u001b[39;49m\u001b[43mPIPE\u001b[49m\u001b[43m)\u001b[49m\n\u001b[0;32m    583\u001b[0m \u001b[38;5;28;01mtry\u001b[39;00m:\n",
      "File \u001b[1;32mG:\\GEN_AI_Projects\\GEN_AI_RAG_LEARN\\.venv\\lib\\subprocess.py:966\u001b[0m, in \u001b[0;36mPopen.__init__\u001b[1;34m(self, args, bufsize, executable, stdin, stdout, stderr, preexec_fn, close_fds, shell, cwd, env, universal_newlines, startupinfo, creationflags, restore_signals, start_new_session, pass_fds, user, group, extra_groups, encoding, errors, text, umask, pipesize)\u001b[0m\n\u001b[0;32m    963\u001b[0m             \u001b[38;5;28mself\u001b[39m\u001b[38;5;241m.\u001b[39mstderr \u001b[38;5;241m=\u001b[39m io\u001b[38;5;241m.\u001b[39mTextIOWrapper(\u001b[38;5;28mself\u001b[39m\u001b[38;5;241m.\u001b[39mstderr,\n\u001b[0;32m    964\u001b[0m                     encoding\u001b[38;5;241m=\u001b[39mencoding, errors\u001b[38;5;241m=\u001b[39merrors)\n\u001b[1;32m--> 966\u001b[0m     \u001b[38;5;28;43mself\u001b[39;49m\u001b[38;5;241;43m.\u001b[39;49m\u001b[43m_execute_child\u001b[49m\u001b[43m(\u001b[49m\u001b[43margs\u001b[49m\u001b[43m,\u001b[49m\u001b[43m \u001b[49m\u001b[43mexecutable\u001b[49m\u001b[43m,\u001b[49m\u001b[43m \u001b[49m\u001b[43mpreexec_fn\u001b[49m\u001b[43m,\u001b[49m\u001b[43m \u001b[49m\u001b[43mclose_fds\u001b[49m\u001b[43m,\u001b[49m\n\u001b[0;32m    967\u001b[0m \u001b[43m                        \u001b[49m\u001b[43mpass_fds\u001b[49m\u001b[43m,\u001b[49m\u001b[43m \u001b[49m\u001b[43mcwd\u001b[49m\u001b[43m,\u001b[49m\u001b[43m \u001b[49m\u001b[43menv\u001b[49m\u001b[43m,\u001b[49m\n\u001b[0;32m    968\u001b[0m \u001b[43m                        \u001b[49m\u001b[43mstartupinfo\u001b[49m\u001b[43m,\u001b[49m\u001b[43m \u001b[49m\u001b[43mcreationflags\u001b[49m\u001b[43m,\u001b[49m\u001b[43m \u001b[49m\u001b[43mshell\u001b[49m\u001b[43m,\u001b[49m\n\u001b[0;32m    969\u001b[0m \u001b[43m                        \u001b[49m\u001b[43mp2cread\u001b[49m\u001b[43m,\u001b[49m\u001b[43m \u001b[49m\u001b[43mp2cwrite\u001b[49m\u001b[43m,\u001b[49m\n\u001b[0;32m    970\u001b[0m \u001b[43m                        \u001b[49m\u001b[43mc2pread\u001b[49m\u001b[43m,\u001b[49m\u001b[43m \u001b[49m\u001b[43mc2pwrite\u001b[49m\u001b[43m,\u001b[49m\n\u001b[0;32m    971\u001b[0m \u001b[43m                        \u001b[49m\u001b[43merrread\u001b[49m\u001b[43m,\u001b[49m\u001b[43m \u001b[49m\u001b[43merrwrite\u001b[49m\u001b[43m,\u001b[49m\n\u001b[0;32m    972\u001b[0m \u001b[43m                        \u001b[49m\u001b[43mrestore_signals\u001b[49m\u001b[43m,\u001b[49m\n\u001b[0;32m    973\u001b[0m \u001b[43m                        \u001b[49m\u001b[43mgid\u001b[49m\u001b[43m,\u001b[49m\u001b[43m \u001b[49m\u001b[43mgids\u001b[49m\u001b[43m,\u001b[49m\u001b[43m \u001b[49m\u001b[43muid\u001b[49m\u001b[43m,\u001b[49m\u001b[43m \u001b[49m\u001b[43mumask\u001b[49m\u001b[43m,\u001b[49m\n\u001b[0;32m    974\u001b[0m \u001b[43m                        \u001b[49m\u001b[43mstart_new_session\u001b[49m\u001b[43m)\u001b[49m\n\u001b[0;32m    975\u001b[0m \u001b[38;5;28;01mexcept\u001b[39;00m:\n\u001b[0;32m    976\u001b[0m     \u001b[38;5;66;03m# Cleanup if the child failed starting.\u001b[39;00m\n",
      "File \u001b[1;32mG:\\GEN_AI_Projects\\GEN_AI_RAG_LEARN\\.venv\\lib\\subprocess.py:1435\u001b[0m, in \u001b[0;36mPopen._execute_child\u001b[1;34m(self, args, executable, preexec_fn, close_fds, pass_fds, cwd, env, startupinfo, creationflags, shell, p2cread, p2cwrite, c2pread, c2pwrite, errread, errwrite, unused_restore_signals, unused_gid, unused_gids, unused_uid, unused_umask, unused_start_new_session)\u001b[0m\n\u001b[0;32m   1434\u001b[0m \u001b[38;5;28;01mtry\u001b[39;00m:\n\u001b[1;32m-> 1435\u001b[0m     hp, ht, pid, tid \u001b[38;5;241m=\u001b[39m \u001b[43m_winapi\u001b[49m\u001b[38;5;241;43m.\u001b[39;49m\u001b[43mCreateProcess\u001b[49m\u001b[43m(\u001b[49m\u001b[43mexecutable\u001b[49m\u001b[43m,\u001b[49m\u001b[43m \u001b[49m\u001b[43margs\u001b[49m\u001b[43m,\u001b[49m\n\u001b[0;32m   1436\u001b[0m \u001b[43m                             \u001b[49m\u001b[38;5;66;43;03m# no special security\u001b[39;49;00m\n\u001b[0;32m   1437\u001b[0m \u001b[43m                             \u001b[49m\u001b[38;5;28;43;01mNone\u001b[39;49;00m\u001b[43m,\u001b[49m\u001b[43m \u001b[49m\u001b[38;5;28;43;01mNone\u001b[39;49;00m\u001b[43m,\u001b[49m\n\u001b[0;32m   1438\u001b[0m \u001b[43m                             \u001b[49m\u001b[38;5;28;43mint\u001b[39;49m\u001b[43m(\u001b[49m\u001b[38;5;129;43;01mnot\u001b[39;49;00m\u001b[43m \u001b[49m\u001b[43mclose_fds\u001b[49m\u001b[43m)\u001b[49m\u001b[43m,\u001b[49m\n\u001b[0;32m   1439\u001b[0m \u001b[43m                             \u001b[49m\u001b[43mcreationflags\u001b[49m\u001b[43m,\u001b[49m\n\u001b[0;32m   1440\u001b[0m \u001b[43m                             \u001b[49m\u001b[43menv\u001b[49m\u001b[43m,\u001b[49m\n\u001b[0;32m   1441\u001b[0m \u001b[43m                             \u001b[49m\u001b[43mcwd\u001b[49m\u001b[43m,\u001b[49m\n\u001b[0;32m   1442\u001b[0m \u001b[43m                             \u001b[49m\u001b[43mstartupinfo\u001b[49m\u001b[43m)\u001b[49m\n\u001b[0;32m   1443\u001b[0m \u001b[38;5;28;01mfinally\u001b[39;00m:\n\u001b[0;32m   1444\u001b[0m     \u001b[38;5;66;03m# Child is launched. Close the parent's copy of those pipe\u001b[39;00m\n\u001b[0;32m   1445\u001b[0m     \u001b[38;5;66;03m# handles that only the child should have open.  You need\u001b[39;00m\n\u001b[1;32m   (...)\u001b[0m\n\u001b[0;32m   1448\u001b[0m     \u001b[38;5;66;03m# pipe will not close when the child process exits and the\u001b[39;00m\n\u001b[0;32m   1449\u001b[0m     \u001b[38;5;66;03m# ReadFile will hang.\u001b[39;00m\n",
      "\u001b[1;31mFileNotFoundError\u001b[0m: [WinError 2] The system cannot find the file specified",
      "\nDuring handling of the above exception, another exception occurred:\n",
      "\u001b[1;31mPDFInfoNotInstalledError\u001b[0m                  Traceback (most recent call last)",
      "Cell \u001b[1;32mIn[3], line 4\u001b[0m\n\u001b[0;32m      1\u001b[0m filename \u001b[38;5;241m=\u001b[39m \u001b[38;5;124m\"\u001b[39m\u001b[38;5;124m.\u001b[39m\u001b[38;5;124m\\\u001b[39m\u001b[38;5;124mdata\u001b[39m\u001b[38;5;124m\\\u001b[39m\u001b[38;5;124mSalesforceFinancialReport.pdf\u001b[39m\u001b[38;5;124m\"\u001b[39m\n\u001b[0;32m      3\u001b[0m \u001b[38;5;66;03m# Extract the elements from the pdf\u001b[39;00m\n\u001b[1;32m----> 4\u001b[0m elements \u001b[38;5;241m=\u001b[39m \u001b[43mpartition_pdf\u001b[49m\u001b[43m(\u001b[49m\n\u001b[0;32m      5\u001b[0m \u001b[43m    \u001b[49m\u001b[43mfilename\u001b[49m\u001b[43m \u001b[49m\u001b[38;5;241;43m=\u001b[39;49m\u001b[43m \u001b[49m\u001b[43mfilename\u001b[49m\u001b[43m,\u001b[49m\n\u001b[0;32m      6\u001b[0m \u001b[43m    \u001b[49m\n\u001b[0;32m      7\u001b[0m \u001b[43m    \u001b[49m\u001b[38;5;66;43;03m# unstructured helper\u001b[39;49;00m\n\u001b[0;32m      8\u001b[0m \u001b[43m    \u001b[49m\u001b[43mstratergy\u001b[49m\u001b[43m \u001b[49m\u001b[38;5;241;43m=\u001b[39;49m\u001b[43m \u001b[49m\u001b[38;5;124;43m\"\u001b[39;49m\u001b[38;5;124;43mhi_res\u001b[39;49m\u001b[38;5;124;43m\"\u001b[39;49m\u001b[43m,\u001b[49m\n\u001b[0;32m      9\u001b[0m \u001b[43m    \u001b[49m\u001b[43minfer_table_structure\u001b[49m\u001b[43m \u001b[49m\u001b[38;5;241;43m=\u001b[39;49m\u001b[43m \u001b[49m\u001b[38;5;28;43;01mTrue\u001b[39;49;00m\u001b[43m,\u001b[49m\n\u001b[0;32m     10\u001b[0m \u001b[43m    \u001b[49m\u001b[43mmodel\u001b[49m\u001b[43m \u001b[49m\u001b[38;5;241;43m=\u001b[39;49m\u001b[43m \u001b[49m\u001b[38;5;124;43m'\u001b[39;49m\u001b[38;5;124;43myolox\u001b[39;49m\u001b[38;5;124;43m'\u001b[39;49m\n\u001b[0;32m     11\u001b[0m \u001b[43m)\u001b[49m\n",
      "File \u001b[1;32mG:\\GEN_AI_Projects\\GEN_AI_RAG_LEARN\\.venv\\lib\\site-packages\\unstructured\\documents\\elements.py:581\u001b[0m, in \u001b[0;36mprocess_metadata.<locals>.decorator.<locals>.wrapper\u001b[1;34m(*args, **kwargs)\u001b[0m\n\u001b[0;32m    579\u001b[0m \u001b[38;5;129m@functools\u001b[39m\u001b[38;5;241m.\u001b[39mwraps(func)\n\u001b[0;32m    580\u001b[0m \u001b[38;5;28;01mdef\u001b[39;00m\u001b[38;5;250m \u001b[39m\u001b[38;5;21mwrapper\u001b[39m(\u001b[38;5;241m*\u001b[39margs: _P\u001b[38;5;241m.\u001b[39margs, \u001b[38;5;241m*\u001b[39m\u001b[38;5;241m*\u001b[39mkwargs: _P\u001b[38;5;241m.\u001b[39mkwargs) \u001b[38;5;241m-\u001b[39m\u001b[38;5;241m>\u001b[39m \u001b[38;5;28mlist\u001b[39m[Element]:\n\u001b[1;32m--> 581\u001b[0m     elements \u001b[38;5;241m=\u001b[39m func(\u001b[38;5;241m*\u001b[39margs, \u001b[38;5;241m*\u001b[39m\u001b[38;5;241m*\u001b[39mkwargs)\n\u001b[0;32m    582\u001b[0m     call_args \u001b[38;5;241m=\u001b[39m get_call_args_applying_defaults(func, \u001b[38;5;241m*\u001b[39margs, \u001b[38;5;241m*\u001b[39m\u001b[38;5;241m*\u001b[39mkwargs)\n\u001b[0;32m    584\u001b[0m     unique_element_ids: \u001b[38;5;28mbool\u001b[39m \u001b[38;5;241m=\u001b[39m call_args\u001b[38;5;241m.\u001b[39mget(\u001b[38;5;124m\"\u001b[39m\u001b[38;5;124munique_element_ids\u001b[39m\u001b[38;5;124m\"\u001b[39m, \u001b[38;5;28;01mFalse\u001b[39;00m)\n",
      "File \u001b[1;32mG:\\GEN_AI_Projects\\GEN_AI_RAG_LEARN\\.venv\\lib\\site-packages\\unstructured\\file_utils\\filetype.py:816\u001b[0m, in \u001b[0;36madd_filetype.<locals>.decorator.<locals>.wrapper\u001b[1;34m(*args, **kwargs)\u001b[0m\n\u001b[0;32m    814\u001b[0m \u001b[38;5;129m@functools\u001b[39m\u001b[38;5;241m.\u001b[39mwraps(func)\n\u001b[0;32m    815\u001b[0m \u001b[38;5;28;01mdef\u001b[39;00m\u001b[38;5;250m \u001b[39m\u001b[38;5;21mwrapper\u001b[39m(\u001b[38;5;241m*\u001b[39margs: _P\u001b[38;5;241m.\u001b[39margs, \u001b[38;5;241m*\u001b[39m\u001b[38;5;241m*\u001b[39mkwargs: _P\u001b[38;5;241m.\u001b[39mkwargs) \u001b[38;5;241m-\u001b[39m\u001b[38;5;241m>\u001b[39m \u001b[38;5;28mlist\u001b[39m[Element]:\n\u001b[1;32m--> 816\u001b[0m     elements \u001b[38;5;241m=\u001b[39m func(\u001b[38;5;241m*\u001b[39margs, \u001b[38;5;241m*\u001b[39m\u001b[38;5;241m*\u001b[39mkwargs)\n\u001b[0;32m    818\u001b[0m     \u001b[38;5;28;01mfor\u001b[39;00m element \u001b[38;5;129;01min\u001b[39;00m elements:\n\u001b[0;32m    819\u001b[0m         \u001b[38;5;66;03m# NOTE(robinson) - Attached files have already run through this logic\u001b[39;00m\n\u001b[0;32m    820\u001b[0m         \u001b[38;5;66;03m# in their own partitioning function\u001b[39;00m\n\u001b[0;32m    821\u001b[0m         \u001b[38;5;28;01mif\u001b[39;00m element\u001b[38;5;241m.\u001b[39mmetadata\u001b[38;5;241m.\u001b[39mattached_to_filename \u001b[38;5;129;01mis\u001b[39;00m \u001b[38;5;28;01mNone\u001b[39;00m:\n",
      "File \u001b[1;32mG:\\GEN_AI_Projects\\GEN_AI_RAG_LEARN\\.venv\\lib\\site-packages\\unstructured\\file_utils\\filetype.py:774\u001b[0m, in \u001b[0;36madd_metadata.<locals>.wrapper\u001b[1;34m(*args, **kwargs)\u001b[0m\n\u001b[0;32m    772\u001b[0m \u001b[38;5;129m@functools\u001b[39m\u001b[38;5;241m.\u001b[39mwraps(func)\n\u001b[0;32m    773\u001b[0m \u001b[38;5;28;01mdef\u001b[39;00m\u001b[38;5;250m \u001b[39m\u001b[38;5;21mwrapper\u001b[39m(\u001b[38;5;241m*\u001b[39margs: _P\u001b[38;5;241m.\u001b[39margs, \u001b[38;5;241m*\u001b[39m\u001b[38;5;241m*\u001b[39mkwargs: _P\u001b[38;5;241m.\u001b[39mkwargs) \u001b[38;5;241m-\u001b[39m\u001b[38;5;241m>\u001b[39m \u001b[38;5;28mlist\u001b[39m[Element]:\n\u001b[1;32m--> 774\u001b[0m     elements \u001b[38;5;241m=\u001b[39m func(\u001b[38;5;241m*\u001b[39margs, \u001b[38;5;241m*\u001b[39m\u001b[38;5;241m*\u001b[39mkwargs)\n\u001b[0;32m    775\u001b[0m     call_args \u001b[38;5;241m=\u001b[39m get_call_args_applying_defaults(func, \u001b[38;5;241m*\u001b[39margs, \u001b[38;5;241m*\u001b[39m\u001b[38;5;241m*\u001b[39mkwargs)\n\u001b[0;32m    777\u001b[0m     \u001b[38;5;28;01mif\u001b[39;00m call_args\u001b[38;5;241m.\u001b[39mget(\u001b[38;5;124m\"\u001b[39m\u001b[38;5;124mmetadata_filename\u001b[39m\u001b[38;5;124m\"\u001b[39m):\n",
      "File \u001b[1;32mG:\\GEN_AI_Projects\\GEN_AI_RAG_LEARN\\.venv\\lib\\site-packages\\unstructured\\chunking\\dispatch.py:74\u001b[0m, in \u001b[0;36madd_chunking_strategy.<locals>.wrapper\u001b[1;34m(*args, **kwargs)\u001b[0m\n\u001b[0;32m     71\u001b[0m \u001b[38;5;250m\u001b[39m\u001b[38;5;124;03m\"\"\"The decorated function is replaced with this one.\"\"\"\u001b[39;00m\n\u001b[0;32m     73\u001b[0m \u001b[38;5;66;03m# -- call the partitioning function to get the elements --\u001b[39;00m\n\u001b[1;32m---> 74\u001b[0m elements \u001b[38;5;241m=\u001b[39m func(\u001b[38;5;241m*\u001b[39margs, \u001b[38;5;241m*\u001b[39m\u001b[38;5;241m*\u001b[39mkwargs)\n\u001b[0;32m     76\u001b[0m \u001b[38;5;66;03m# -- look for a chunking-strategy argument --\u001b[39;00m\n\u001b[0;32m     77\u001b[0m call_args \u001b[38;5;241m=\u001b[39m get_call_args_applying_defaults(func, \u001b[38;5;241m*\u001b[39margs, \u001b[38;5;241m*\u001b[39m\u001b[38;5;241m*\u001b[39mkwargs)\n",
      "File \u001b[1;32mG:\\GEN_AI_Projects\\GEN_AI_RAG_LEARN\\.venv\\lib\\site-packages\\unstructured\\partition\\pdf.py:228\u001b[0m, in \u001b[0;36mpartition_pdf\u001b[1;34m(filename, file, include_page_breaks, strategy, infer_table_structure, ocr_languages, languages, metadata_filename, metadata_last_modified, chunking_strategy, hi_res_model_name, extract_images_in_pdf, extract_image_block_types, extract_image_block_output_dir, extract_image_block_to_payload, starting_page_number, extract_forms, form_extraction_skip_tables, password, pdfminer_line_margin, pdfminer_char_margin, pdfminer_line_overlap, pdfminer_word_margin, **kwargs)\u001b[0m\n\u001b[0;32m    225\u001b[0m exactly_one(filename\u001b[38;5;241m=\u001b[39mfilename, file\u001b[38;5;241m=\u001b[39mfile)\n\u001b[0;32m    227\u001b[0m languages \u001b[38;5;241m=\u001b[39m check_language_args(languages \u001b[38;5;129;01mor\u001b[39;00m [], ocr_languages)\n\u001b[1;32m--> 228\u001b[0m \u001b[38;5;28;01mreturn\u001b[39;00m partition_pdf_or_image(\n\u001b[0;32m    229\u001b[0m     filename\u001b[38;5;241m=\u001b[39mfilename,\n\u001b[0;32m    230\u001b[0m     file\u001b[38;5;241m=\u001b[39mfile,\n\u001b[0;32m    231\u001b[0m     include_page_breaks\u001b[38;5;241m=\u001b[39minclude_page_breaks,\n\u001b[0;32m    232\u001b[0m     strategy\u001b[38;5;241m=\u001b[39mstrategy,\n\u001b[0;32m    233\u001b[0m     infer_table_structure\u001b[38;5;241m=\u001b[39minfer_table_structure,\n\u001b[0;32m    234\u001b[0m     languages\u001b[38;5;241m=\u001b[39mlanguages,\n\u001b[0;32m    235\u001b[0m     metadata_last_modified\u001b[38;5;241m=\u001b[39mmetadata_last_modified,\n\u001b[0;32m    236\u001b[0m     hi_res_model_name\u001b[38;5;241m=\u001b[39mhi_res_model_name,\n\u001b[0;32m    237\u001b[0m     extract_images_in_pdf\u001b[38;5;241m=\u001b[39mextract_images_in_pdf,\n\u001b[0;32m    238\u001b[0m     extract_image_block_types\u001b[38;5;241m=\u001b[39mextract_image_block_types,\n\u001b[0;32m    239\u001b[0m     extract_image_block_output_dir\u001b[38;5;241m=\u001b[39mextract_image_block_output_dir,\n\u001b[0;32m    240\u001b[0m     extract_image_block_to_payload\u001b[38;5;241m=\u001b[39mextract_image_block_to_payload,\n\u001b[0;32m    241\u001b[0m     starting_page_number\u001b[38;5;241m=\u001b[39mstarting_page_number,\n\u001b[0;32m    242\u001b[0m     extract_forms\u001b[38;5;241m=\u001b[39mextract_forms,\n\u001b[0;32m    243\u001b[0m     form_extraction_skip_tables\u001b[38;5;241m=\u001b[39mform_extraction_skip_tables,\n\u001b[0;32m    244\u001b[0m     password\u001b[38;5;241m=\u001b[39mpassword,\n\u001b[0;32m    245\u001b[0m     pdfminer_line_margin\u001b[38;5;241m=\u001b[39mpdfminer_line_margin,\n\u001b[0;32m    246\u001b[0m     pdfminer_char_margin\u001b[38;5;241m=\u001b[39mpdfminer_char_margin,\n\u001b[0;32m    247\u001b[0m     pdfminer_line_overlap\u001b[38;5;241m=\u001b[39mpdfminer_line_overlap,\n\u001b[0;32m    248\u001b[0m     pdfminer_word_margin\u001b[38;5;241m=\u001b[39mpdfminer_word_margin,\n\u001b[0;32m    249\u001b[0m     \u001b[38;5;241m*\u001b[39m\u001b[38;5;241m*\u001b[39mkwargs,\n\u001b[0;32m    250\u001b[0m )\n",
      "File \u001b[1;32mG:\\GEN_AI_Projects\\GEN_AI_RAG_LEARN\\.venv\\lib\\site-packages\\unstructured\\partition\\pdf.py:341\u001b[0m, in \u001b[0;36mpartition_pdf_or_image\u001b[1;34m(filename, file, is_image, include_page_breaks, strategy, infer_table_structure, languages, metadata_last_modified, hi_res_model_name, extract_images_in_pdf, extract_image_block_types, extract_image_block_output_dir, extract_image_block_to_payload, starting_page_number, extract_forms, form_extraction_skip_tables, password, pdfminer_line_margin, pdfminer_char_margin, pdfminer_line_overlap, pdfminer_word_margin, ocr_agent, table_ocr_agent, **kwargs)\u001b[0m\n\u001b[0;32m    339\u001b[0m     \u001b[38;5;28;01mwith\u001b[39;00m warnings\u001b[38;5;241m.\u001b[39mcatch_warnings():\n\u001b[0;32m    340\u001b[0m         warnings\u001b[38;5;241m.\u001b[39msimplefilter(\u001b[38;5;124m\"\u001b[39m\u001b[38;5;124mignore\u001b[39m\u001b[38;5;124m\"\u001b[39m)\n\u001b[1;32m--> 341\u001b[0m         elements \u001b[38;5;241m=\u001b[39m _partition_pdf_or_image_local(\n\u001b[0;32m    342\u001b[0m             filename\u001b[38;5;241m=\u001b[39mfilename,\n\u001b[0;32m    343\u001b[0m             file\u001b[38;5;241m=\u001b[39mspooled_to_bytes_io_if_needed(file),\n\u001b[0;32m    344\u001b[0m             is_image\u001b[38;5;241m=\u001b[39mis_image,\n\u001b[0;32m    345\u001b[0m             infer_table_structure\u001b[38;5;241m=\u001b[39minfer_table_structure,\n\u001b[0;32m    346\u001b[0m             include_page_breaks\u001b[38;5;241m=\u001b[39minclude_page_breaks,\n\u001b[0;32m    347\u001b[0m             languages\u001b[38;5;241m=\u001b[39mlanguages,\n\u001b[0;32m    348\u001b[0m             ocr_languages\u001b[38;5;241m=\u001b[39mocr_languages,\n\u001b[0;32m    349\u001b[0m             metadata_last_modified\u001b[38;5;241m=\u001b[39mmetadata_last_modified \u001b[38;5;129;01mor\u001b[39;00m last_modified,\n\u001b[0;32m    350\u001b[0m             hi_res_model_name\u001b[38;5;241m=\u001b[39mhi_res_model_name,\n\u001b[0;32m    351\u001b[0m             pdf_text_extractable\u001b[38;5;241m=\u001b[39mpdf_text_extractable,\n\u001b[0;32m    352\u001b[0m             extract_images_in_pdf\u001b[38;5;241m=\u001b[39mextract_images_in_pdf,\n\u001b[0;32m    353\u001b[0m             extract_image_block_types\u001b[38;5;241m=\u001b[39mextract_image_block_types,\n\u001b[0;32m    354\u001b[0m             extract_image_block_output_dir\u001b[38;5;241m=\u001b[39mextract_image_block_output_dir,\n\u001b[0;32m    355\u001b[0m             extract_image_block_to_payload\u001b[38;5;241m=\u001b[39mextract_image_block_to_payload,\n\u001b[0;32m    356\u001b[0m             starting_page_number\u001b[38;5;241m=\u001b[39mstarting_page_number,\n\u001b[0;32m    357\u001b[0m             extract_forms\u001b[38;5;241m=\u001b[39mextract_forms,\n\u001b[0;32m    358\u001b[0m             form_extraction_skip_tables\u001b[38;5;241m=\u001b[39mform_extraction_skip_tables,\n\u001b[0;32m    359\u001b[0m             password\u001b[38;5;241m=\u001b[39mpassword,\n\u001b[0;32m    360\u001b[0m             pdfminer_config\u001b[38;5;241m=\u001b[39mpdfminer_config,\n\u001b[0;32m    361\u001b[0m             ocr_agent\u001b[38;5;241m=\u001b[39mocr_agent,\n\u001b[0;32m    362\u001b[0m             table_ocr_agent\u001b[38;5;241m=\u001b[39mtable_ocr_agent,\n\u001b[0;32m    363\u001b[0m             \u001b[38;5;241m*\u001b[39m\u001b[38;5;241m*\u001b[39mkwargs,\n\u001b[0;32m    364\u001b[0m         )\n\u001b[0;32m    365\u001b[0m         out_elements \u001b[38;5;241m=\u001b[39m _process_uncategorized_text_elements(elements)\n\u001b[0;32m    367\u001b[0m \u001b[38;5;28;01melif\u001b[39;00m strategy \u001b[38;5;241m==\u001b[39m PartitionStrategy\u001b[38;5;241m.\u001b[39mFAST:\n",
      "File \u001b[1;32mG:\\GEN_AI_Projects\\GEN_AI_RAG_LEARN\\.venv\\lib\\site-packages\\unstructured\\utils.py:216\u001b[0m, in \u001b[0;36mrequires_dependencies.<locals>.decorator.<locals>.wrapper\u001b[1;34m(*args, **kwargs)\u001b[0m\n\u001b[0;32m    213\u001b[0m \u001b[38;5;129m@wraps\u001b[39m(func)\n\u001b[0;32m    214\u001b[0m \u001b[38;5;28;01mdef\u001b[39;00m\u001b[38;5;250m \u001b[39m\u001b[38;5;21mwrapper\u001b[39m(\u001b[38;5;241m*\u001b[39margs: _P\u001b[38;5;241m.\u001b[39margs, \u001b[38;5;241m*\u001b[39m\u001b[38;5;241m*\u001b[39mkwargs: _P\u001b[38;5;241m.\u001b[39mkwargs):\n\u001b[0;32m    215\u001b[0m     run_check()\n\u001b[1;32m--> 216\u001b[0m     \u001b[38;5;28;01mreturn\u001b[39;00m func(\u001b[38;5;241m*\u001b[39margs, \u001b[38;5;241m*\u001b[39m\u001b[38;5;241m*\u001b[39mkwargs)\n",
      "File \u001b[1;32mG:\\GEN_AI_Projects\\GEN_AI_RAG_LEARN\\.venv\\lib\\site-packages\\unstructured\\partition\\pdf.py:646\u001b[0m, in \u001b[0;36m_partition_pdf_or_image_local\u001b[1;34m(filename, file, is_image, infer_table_structure, include_page_breaks, languages, ocr_languages, ocr_mode, model_name, hi_res_model_name, pdf_image_dpi, metadata_last_modified, pdf_text_extractable, extract_images_in_pdf, extract_image_block_types, extract_image_block_output_dir, extract_image_block_to_payload, analysis, analyzed_image_output_dir_path, starting_page_number, extract_forms, form_extraction_skip_tables, pdf_hi_res_max_pages, password, pdfminer_config, ocr_agent, table_ocr_agent, **kwargs)\u001b[0m\n\u001b[0;32m    643\u001b[0m skip_analysis_dump \u001b[38;5;241m=\u001b[39m env_config\u001b[38;5;241m.\u001b[39mANALYSIS_DUMP_OD_SKIP\n\u001b[0;32m    645\u001b[0m \u001b[38;5;28;01mif\u001b[39;00m file \u001b[38;5;129;01mis\u001b[39;00m \u001b[38;5;28;01mNone\u001b[39;00m:\n\u001b[1;32m--> 646\u001b[0m     inferred_document_layout \u001b[38;5;241m=\u001b[39m \u001b[43mprocess_file_with_model\u001b[49m\u001b[43m(\u001b[49m\n\u001b[0;32m    647\u001b[0m \u001b[43m        \u001b[49m\u001b[43mfilename\u001b[49m\u001b[43m,\u001b[49m\n\u001b[0;32m    648\u001b[0m \u001b[43m        \u001b[49m\u001b[43mis_image\u001b[49m\u001b[38;5;241;43m=\u001b[39;49m\u001b[43mis_image\u001b[49m\u001b[43m,\u001b[49m\n\u001b[0;32m    649\u001b[0m \u001b[43m        \u001b[49m\u001b[43mmodel_name\u001b[49m\u001b[38;5;241;43m=\u001b[39;49m\u001b[43mhi_res_model_name\u001b[49m\u001b[43m,\u001b[49m\n\u001b[0;32m    650\u001b[0m \u001b[43m        \u001b[49m\u001b[43mpdf_image_dpi\u001b[49m\u001b[38;5;241;43m=\u001b[39;49m\u001b[43mpdf_image_dpi\u001b[49m\u001b[43m,\u001b[49m\n\u001b[0;32m    651\u001b[0m \u001b[43m        \u001b[49m\u001b[43mpassword\u001b[49m\u001b[38;5;241;43m=\u001b[39;49m\u001b[43mpassword\u001b[49m\u001b[43m,\u001b[49m\n\u001b[0;32m    652\u001b[0m \u001b[43m    \u001b[49m\u001b[43m)\u001b[49m\n\u001b[0;32m    654\u001b[0m     extracted_layout, layouts_links \u001b[38;5;241m=\u001b[39m (\n\u001b[0;32m    655\u001b[0m         process_file_with_pdfminer(\n\u001b[0;32m    656\u001b[0m             filename\u001b[38;5;241m=\u001b[39mfilename,\n\u001b[1;32m   (...)\u001b[0m\n\u001b[0;32m    662\u001b[0m         \u001b[38;5;28;01melse\u001b[39;00m ([], [])\n\u001b[0;32m    663\u001b[0m     )\n\u001b[0;32m    665\u001b[0m     \u001b[38;5;28;01mif\u001b[39;00m analysis:\n",
      "File \u001b[1;32mG:\\GEN_AI_Projects\\GEN_AI_RAG_LEARN\\.venv\\lib\\site-packages\\unstructured_inference\\inference\\layout.py:388\u001b[0m, in \u001b[0;36mprocess_file_with_model\u001b[1;34m(filename, model_name, is_image, fixed_layouts, pdf_image_dpi, password, **kwargs)\u001b[0m\n\u001b[0;32m    378\u001b[0m \u001b[38;5;28;01melse\u001b[39;00m:\n\u001b[0;32m    379\u001b[0m     \u001b[38;5;28;01mraise\u001b[39;00m \u001b[38;5;167;01mValueError\u001b[39;00m(\u001b[38;5;124mf\u001b[39m\u001b[38;5;124m\"\u001b[39m\u001b[38;5;124mUnsupported model type: \u001b[39m\u001b[38;5;132;01m{\u001b[39;00m\u001b[38;5;28mtype\u001b[39m(model)\u001b[38;5;132;01m}\u001b[39;00m\u001b[38;5;124m\"\u001b[39m)\n\u001b[0;32m    380\u001b[0m layout \u001b[38;5;241m=\u001b[39m (\n\u001b[0;32m    381\u001b[0m     DocumentLayout\u001b[38;5;241m.\u001b[39mfrom_image_file(\n\u001b[0;32m    382\u001b[0m         filename,\n\u001b[0;32m    383\u001b[0m         detection_model\u001b[38;5;241m=\u001b[39mdetection_model,\n\u001b[0;32m    384\u001b[0m         element_extraction_model\u001b[38;5;241m=\u001b[39melement_extraction_model,\n\u001b[0;32m    385\u001b[0m         \u001b[38;5;241m*\u001b[39m\u001b[38;5;241m*\u001b[39mkwargs,\n\u001b[0;32m    386\u001b[0m     )\n\u001b[0;32m    387\u001b[0m     \u001b[38;5;28;01mif\u001b[39;00m is_image\n\u001b[1;32m--> 388\u001b[0m     \u001b[38;5;28;01melse\u001b[39;00m DocumentLayout\u001b[38;5;241m.\u001b[39mfrom_file(\n\u001b[0;32m    389\u001b[0m         filename,\n\u001b[0;32m    390\u001b[0m         detection_model\u001b[38;5;241m=\u001b[39mdetection_model,\n\u001b[0;32m    391\u001b[0m         element_extraction_model\u001b[38;5;241m=\u001b[39melement_extraction_model,\n\u001b[0;32m    392\u001b[0m         fixed_layouts\u001b[38;5;241m=\u001b[39mfixed_layouts,\n\u001b[0;32m    393\u001b[0m         pdf_image_dpi\u001b[38;5;241m=\u001b[39mpdf_image_dpi,\n\u001b[0;32m    394\u001b[0m         password\u001b[38;5;241m=\u001b[39mpassword,\n\u001b[0;32m    395\u001b[0m         \u001b[38;5;241m*\u001b[39m\u001b[38;5;241m*\u001b[39mkwargs,\n\u001b[0;32m    396\u001b[0m     )\n\u001b[0;32m    397\u001b[0m )\n\u001b[0;32m    398\u001b[0m \u001b[38;5;28;01mreturn\u001b[39;00m layout\n",
      "File \u001b[1;32mG:\\GEN_AI_Projects\\GEN_AI_RAG_LEARN\\.venv\\lib\\site-packages\\unstructured_inference\\inference\\layout.py:62\u001b[0m, in \u001b[0;36mDocumentLayout.from_file\u001b[1;34m(cls, filename, fixed_layouts, pdf_image_dpi, password, **kwargs)\u001b[0m\n\u001b[0;32m     59\u001b[0m logger\u001b[38;5;241m.\u001b[39minfo(\u001b[38;5;124mf\u001b[39m\u001b[38;5;124m\"\u001b[39m\u001b[38;5;124mReading PDF for file: \u001b[39m\u001b[38;5;132;01m{\u001b[39;00mfilename\u001b[38;5;132;01m}\u001b[39;00m\u001b[38;5;124m ...\u001b[39m\u001b[38;5;124m\"\u001b[39m)\n\u001b[0;32m     61\u001b[0m \u001b[38;5;28;01mwith\u001b[39;00m tempfile\u001b[38;5;241m.\u001b[39mTemporaryDirectory() \u001b[38;5;28;01mas\u001b[39;00m temp_dir:\n\u001b[1;32m---> 62\u001b[0m     _image_paths \u001b[38;5;241m=\u001b[39m \u001b[43mconvert_pdf_to_image\u001b[49m\u001b[43m(\u001b[49m\n\u001b[0;32m     63\u001b[0m \u001b[43m        \u001b[49m\u001b[43mfilename\u001b[49m\u001b[43m,\u001b[49m\n\u001b[0;32m     64\u001b[0m \u001b[43m        \u001b[49m\u001b[43mpdf_image_dpi\u001b[49m\u001b[43m,\u001b[49m\n\u001b[0;32m     65\u001b[0m \u001b[43m        \u001b[49m\u001b[43moutput_folder\u001b[49m\u001b[38;5;241;43m=\u001b[39;49m\u001b[43mtemp_dir\u001b[49m\u001b[43m,\u001b[49m\n\u001b[0;32m     66\u001b[0m \u001b[43m        \u001b[49m\u001b[43mpath_only\u001b[49m\u001b[38;5;241;43m=\u001b[39;49m\u001b[38;5;28;43;01mTrue\u001b[39;49;00m\u001b[43m,\u001b[49m\n\u001b[0;32m     67\u001b[0m \u001b[43m        \u001b[49m\u001b[43mpassword\u001b[49m\u001b[38;5;241;43m=\u001b[39;49m\u001b[43mpassword\u001b[49m\u001b[43m,\u001b[49m\n\u001b[0;32m     68\u001b[0m \u001b[43m    \u001b[49m\u001b[43m)\u001b[49m\n\u001b[0;32m     69\u001b[0m     image_paths \u001b[38;5;241m=\u001b[39m cast(List[\u001b[38;5;28mstr\u001b[39m], _image_paths)\n\u001b[0;32m     70\u001b[0m     number_of_pages \u001b[38;5;241m=\u001b[39m \u001b[38;5;28mlen\u001b[39m(image_paths)\n",
      "File \u001b[1;32mG:\\GEN_AI_Projects\\GEN_AI_RAG_LEARN\\.venv\\lib\\site-packages\\unstructured_inference\\inference\\layout.py:414\u001b[0m, in \u001b[0;36mconvert_pdf_to_image\u001b[1;34m(filename, dpi, output_folder, path_only, password)\u001b[0m\n\u001b[0;32m    411\u001b[0m     \u001b[38;5;28;01mraise\u001b[39;00m \u001b[38;5;167;01mValueError\u001b[39;00m(\u001b[38;5;124m\"\u001b[39m\u001b[38;5;124moutput_folder must be specified if path_only is true\u001b[39m\u001b[38;5;124m\"\u001b[39m)\n\u001b[0;32m    413\u001b[0m \u001b[38;5;28;01mif\u001b[39;00m output_folder \u001b[38;5;129;01mis\u001b[39;00m \u001b[38;5;129;01mnot\u001b[39;00m \u001b[38;5;28;01mNone\u001b[39;00m:\n\u001b[1;32m--> 414\u001b[0m     images \u001b[38;5;241m=\u001b[39m \u001b[43mpdf2image\u001b[49m\u001b[38;5;241;43m.\u001b[39;49m\u001b[43mconvert_from_path\u001b[49m\u001b[43m(\u001b[49m\n\u001b[0;32m    415\u001b[0m \u001b[43m        \u001b[49m\u001b[43mfilename\u001b[49m\u001b[43m,\u001b[49m\n\u001b[0;32m    416\u001b[0m \u001b[43m        \u001b[49m\u001b[43mdpi\u001b[49m\u001b[38;5;241;43m=\u001b[39;49m\u001b[43mdpi\u001b[49m\u001b[43m,\u001b[49m\n\u001b[0;32m    417\u001b[0m \u001b[43m        \u001b[49m\u001b[43moutput_folder\u001b[49m\u001b[38;5;241;43m=\u001b[39;49m\u001b[43moutput_folder\u001b[49m\u001b[43m,\u001b[49m\n\u001b[0;32m    418\u001b[0m \u001b[43m        \u001b[49m\u001b[43mpaths_only\u001b[49m\u001b[38;5;241;43m=\u001b[39;49m\u001b[43mpath_only\u001b[49m\u001b[43m,\u001b[49m\n\u001b[0;32m    419\u001b[0m \u001b[43m        \u001b[49m\u001b[43muserpw\u001b[49m\u001b[38;5;241;43m=\u001b[39;49m\u001b[43mpassword\u001b[49m\u001b[43m \u001b[49m\u001b[38;5;129;43;01mor\u001b[39;49;00m\u001b[43m \u001b[49m\u001b[38;5;124;43m\"\u001b[39;49m\u001b[38;5;124;43m\"\u001b[39;49m\u001b[43m,\u001b[49m\n\u001b[0;32m    420\u001b[0m \u001b[43m    \u001b[49m\u001b[43m)\u001b[49m\n\u001b[0;32m    421\u001b[0m \u001b[38;5;28;01melse\u001b[39;00m:\n\u001b[0;32m    422\u001b[0m     images \u001b[38;5;241m=\u001b[39m pdf2image\u001b[38;5;241m.\u001b[39mconvert_from_path(\n\u001b[0;32m    423\u001b[0m         filename,\n\u001b[0;32m    424\u001b[0m         dpi\u001b[38;5;241m=\u001b[39mdpi,\n\u001b[0;32m    425\u001b[0m         paths_only\u001b[38;5;241m=\u001b[39mpath_only,\n\u001b[0;32m    426\u001b[0m         userpw\u001b[38;5;241m=\u001b[39mpassword \u001b[38;5;129;01mor\u001b[39;00m \u001b[38;5;124m\"\u001b[39m\u001b[38;5;124m\"\u001b[39m,\n\u001b[0;32m    427\u001b[0m     )\n",
      "File \u001b[1;32mG:\\GEN_AI_Projects\\GEN_AI_RAG_LEARN\\.venv\\lib\\site-packages\\pdf2image\\pdf2image.py:127\u001b[0m, in \u001b[0;36mconvert_from_path\u001b[1;34m(pdf_path, dpi, output_folder, first_page, last_page, fmt, jpegopt, thread_count, userpw, ownerpw, use_cropbox, strict, transparent, single_file, output_file, poppler_path, grayscale, size, paths_only, use_pdftocairo, timeout, hide_annotations)\u001b[0m\n\u001b[0;32m    124\u001b[0m \u001b[38;5;28;01mif\u001b[39;00m \u001b[38;5;28misinstance\u001b[39m(poppler_path, PurePath):\n\u001b[0;32m    125\u001b[0m     poppler_path \u001b[38;5;241m=\u001b[39m poppler_path\u001b[38;5;241m.\u001b[39mas_posix()\n\u001b[1;32m--> 127\u001b[0m page_count \u001b[38;5;241m=\u001b[39m \u001b[43mpdfinfo_from_path\u001b[49m\u001b[43m(\u001b[49m\n\u001b[0;32m    128\u001b[0m \u001b[43m    \u001b[49m\u001b[43mpdf_path\u001b[49m\u001b[43m,\u001b[49m\u001b[43m \u001b[49m\u001b[43muserpw\u001b[49m\u001b[43m,\u001b[49m\u001b[43m \u001b[49m\u001b[43mownerpw\u001b[49m\u001b[43m,\u001b[49m\u001b[43m \u001b[49m\u001b[43mpoppler_path\u001b[49m\u001b[38;5;241;43m=\u001b[39;49m\u001b[43mpoppler_path\u001b[49m\n\u001b[0;32m    129\u001b[0m \u001b[43m\u001b[49m\u001b[43m)\u001b[49m[\u001b[38;5;124m\"\u001b[39m\u001b[38;5;124mPages\u001b[39m\u001b[38;5;124m\"\u001b[39m]\n\u001b[0;32m    131\u001b[0m \u001b[38;5;66;03m# We start by getting the output format, the buffer processing function and if we need pdftocairo\u001b[39;00m\n\u001b[0;32m    132\u001b[0m parsed_fmt, final_extension, parse_buffer_func, use_pdfcairo_format \u001b[38;5;241m=\u001b[39m _parse_format(\n\u001b[0;32m    133\u001b[0m     fmt, grayscale\n\u001b[0;32m    134\u001b[0m )\n",
      "File \u001b[1;32mG:\\GEN_AI_Projects\\GEN_AI_RAG_LEARN\\.venv\\lib\\site-packages\\pdf2image\\pdf2image.py:607\u001b[0m, in \u001b[0;36mpdfinfo_from_path\u001b[1;34m(pdf_path, userpw, ownerpw, poppler_path, rawdates, timeout, first_page, last_page)\u001b[0m\n\u001b[0;32m    604\u001b[0m     \u001b[38;5;28;01mreturn\u001b[39;00m d\n\u001b[0;32m    606\u001b[0m \u001b[38;5;28;01mexcept\u001b[39;00m \u001b[38;5;167;01mOSError\u001b[39;00m:\n\u001b[1;32m--> 607\u001b[0m     \u001b[38;5;28;01mraise\u001b[39;00m PDFInfoNotInstalledError(\n\u001b[0;32m    608\u001b[0m         \u001b[38;5;124m\"\u001b[39m\u001b[38;5;124mUnable to get page count. Is poppler installed and in PATH?\u001b[39m\u001b[38;5;124m\"\u001b[39m\n\u001b[0;32m    609\u001b[0m     )\n\u001b[0;32m    610\u001b[0m \u001b[38;5;28;01mexcept\u001b[39;00m \u001b[38;5;167;01mValueError\u001b[39;00m:\n\u001b[0;32m    611\u001b[0m     \u001b[38;5;28;01mraise\u001b[39;00m PDFPageCountError(\n\u001b[0;32m    612\u001b[0m         \u001b[38;5;124mf\u001b[39m\u001b[38;5;124m\"\u001b[39m\u001b[38;5;124mUnable to get page count.\u001b[39m\u001b[38;5;130;01m\\n\u001b[39;00m\u001b[38;5;132;01m{\u001b[39;00merr\u001b[38;5;241m.\u001b[39mdecode(\u001b[38;5;124m'\u001b[39m\u001b[38;5;124mutf8\u001b[39m\u001b[38;5;124m'\u001b[39m,\u001b[38;5;250m \u001b[39m\u001b[38;5;124m'\u001b[39m\u001b[38;5;124mignore\u001b[39m\u001b[38;5;124m'\u001b[39m)\u001b[38;5;132;01m}\u001b[39;00m\u001b[38;5;124m\"\u001b[39m\n\u001b[0;32m    613\u001b[0m     )\n",
      "\u001b[1;31mPDFInfoNotInstalledError\u001b[0m: Unable to get page count. Is poppler installed and in PATH?"
     ]
    }
   ],
   "source": [
    "filename = \".\\data\\SalesforceFinancialReport.pdf\"\n",
    "\n",
    "# Extract the elements from the pdf\n",
    "elements = partition_pdf(\n",
    "    filename = filename,\n",
    "    \n",
    "    # unstructured helper\n",
    "    stratergy = \"hi_res\",\n",
    "    infer_table_structure = True,\n",
    "    model = 'yolox'\n",
    ")"
   ]
  },
  {
   "cell_type": "code",
   "execution_count": null,
   "id": "a3ebab38",
   "metadata": {},
   "outputs": [],
   "source": []
  }
 ],
 "metadata": {
  "kernelspec": {
   "display_name": "Python (rag_learn)",
   "language": "python",
   "name": ".venv"
  },
  "language_info": {
   "codemirror_mode": {
    "name": "ipython",
    "version": 3
   },
   "file_extension": ".py",
   "mimetype": "text/x-python",
   "name": "python",
   "nbconvert_exporter": "python",
   "pygments_lexer": "ipython3",
   "version": "3.10.0"
  }
 },
 "nbformat": 4,
 "nbformat_minor": 5
}
